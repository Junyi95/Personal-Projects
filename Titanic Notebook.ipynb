{
 "cells": [
  {
   "cell_type": "markdown",
   "metadata": {
    "papermill": {
     "duration": 0.063983,
     "end_time": "2020-11-26T04:02:22.282645",
     "exception": false,
     "start_time": "2020-11-26T04:02:22.218662",
     "status": "completed"
    },
    "tags": []
   },
   "source": [
    "# Importing libraries and data"
   ]
  },
  {
   "cell_type": "code",
   "execution_count": 1,
   "metadata": {
    "_cell_guid": "79c7e3d0-c299-4dcb-8224-4455121ee9b0",
    "_uuid": "d629ff2d2480ee46fbb7e2d37f6b5fab8052498a",
    "execution": {
     "iopub.execute_input": "2020-11-26T04:02:22.414039Z",
     "iopub.status.busy": "2020-11-26T04:02:22.413240Z",
     "iopub.status.idle": "2020-11-26T04:02:23.583439Z",
     "shell.execute_reply": "2020-11-26T04:02:23.582422Z"
    },
    "papermill": {
     "duration": 1.239347,
     "end_time": "2020-11-26T04:02:23.583590",
     "exception": false,
     "start_time": "2020-11-26T04:02:22.344243",
     "status": "completed"
    },
    "tags": []
   },
   "outputs": [],
   "source": [
    "import pandas as pd\n",
    "import numpy as np\n",
    "import matplotlib.pyplot as plt\n",
    "import seaborn as sns\n",
    "%matplotlib inline"
   ]
  },
  {
   "cell_type": "code",
   "execution_count": 2,
   "metadata": {
    "execution": {
     "iopub.execute_input": "2020-11-26T04:02:23.722466Z",
     "iopub.status.busy": "2020-11-26T04:02:23.721430Z",
     "iopub.status.idle": "2020-11-26T04:02:23.724989Z",
     "shell.execute_reply": "2020-11-26T04:02:23.724283Z"
    },
    "papermill": {
     "duration": 0.071613,
     "end_time": "2020-11-26T04:02:23.725146",
     "exception": false,
     "start_time": "2020-11-26T04:02:23.653533",
     "status": "completed"
    },
    "tags": []
   },
   "outputs": [],
   "source": [
    "import warnings\n",
    "warnings.filterwarnings(\"ignore\")"
   ]
  },
  {
   "cell_type": "code",
   "execution_count": 3,
   "metadata": {
    "execution": {
     "iopub.execute_input": "2020-11-26T04:02:23.858323Z",
     "iopub.status.busy": "2020-11-26T04:02:23.857528Z",
     "iopub.status.idle": "2020-11-26T04:02:23.898277Z",
     "shell.execute_reply": "2020-11-26T04:02:23.897510Z"
    },
    "papermill": {
     "duration": 0.111503,
     "end_time": "2020-11-26T04:02:23.898410",
     "exception": false,
     "start_time": "2020-11-26T04:02:23.786907",
     "status": "completed"
    },
    "tags": []
   },
   "outputs": [
    {
     "data": {
      "text/html": [
       "<div>\n",
       "<style scoped>\n",
       "    .dataframe tbody tr th:only-of-type {\n",
       "        vertical-align: middle;\n",
       "    }\n",
       "\n",
       "    .dataframe tbody tr th {\n",
       "        vertical-align: top;\n",
       "    }\n",
       "\n",
       "    .dataframe thead th {\n",
       "        text-align: right;\n",
       "    }\n",
       "</style>\n",
       "<table border=\"1\" class=\"dataframe\">\n",
       "  <thead>\n",
       "    <tr style=\"text-align: right;\">\n",
       "      <th></th>\n",
       "      <th>PassengerId</th>\n",
       "      <th>Survived</th>\n",
       "      <th>Pclass</th>\n",
       "      <th>Name</th>\n",
       "      <th>Sex</th>\n",
       "      <th>Age</th>\n",
       "      <th>SibSp</th>\n",
       "      <th>Parch</th>\n",
       "      <th>Ticket</th>\n",
       "      <th>Fare</th>\n",
       "      <th>Cabin</th>\n",
       "      <th>Embarked</th>\n",
       "    </tr>\n",
       "  </thead>\n",
       "  <tbody>\n",
       "    <tr>\n",
       "      <th>0</th>\n",
       "      <td>1</td>\n",
       "      <td>0</td>\n",
       "      <td>3</td>\n",
       "      <td>Braund, Mr. Owen Harris</td>\n",
       "      <td>male</td>\n",
       "      <td>22.0</td>\n",
       "      <td>1</td>\n",
       "      <td>0</td>\n",
       "      <td>A/5 21171</td>\n",
       "      <td>7.2500</td>\n",
       "      <td>NaN</td>\n",
       "      <td>S</td>\n",
       "    </tr>\n",
       "    <tr>\n",
       "      <th>1</th>\n",
       "      <td>2</td>\n",
       "      <td>1</td>\n",
       "      <td>1</td>\n",
       "      <td>Cumings, Mrs. John Bradley (Florence Briggs Th...</td>\n",
       "      <td>female</td>\n",
       "      <td>38.0</td>\n",
       "      <td>1</td>\n",
       "      <td>0</td>\n",
       "      <td>PC 17599</td>\n",
       "      <td>71.2833</td>\n",
       "      <td>C85</td>\n",
       "      <td>C</td>\n",
       "    </tr>\n",
       "    <tr>\n",
       "      <th>2</th>\n",
       "      <td>3</td>\n",
       "      <td>1</td>\n",
       "      <td>3</td>\n",
       "      <td>Heikkinen, Miss. Laina</td>\n",
       "      <td>female</td>\n",
       "      <td>26.0</td>\n",
       "      <td>0</td>\n",
       "      <td>0</td>\n",
       "      <td>STON/O2. 3101282</td>\n",
       "      <td>7.9250</td>\n",
       "      <td>NaN</td>\n",
       "      <td>S</td>\n",
       "    </tr>\n",
       "    <tr>\n",
       "      <th>3</th>\n",
       "      <td>4</td>\n",
       "      <td>1</td>\n",
       "      <td>1</td>\n",
       "      <td>Futrelle, Mrs. Jacques Heath (Lily May Peel)</td>\n",
       "      <td>female</td>\n",
       "      <td>35.0</td>\n",
       "      <td>1</td>\n",
       "      <td>0</td>\n",
       "      <td>113803</td>\n",
       "      <td>53.1000</td>\n",
       "      <td>C123</td>\n",
       "      <td>S</td>\n",
       "    </tr>\n",
       "    <tr>\n",
       "      <th>4</th>\n",
       "      <td>5</td>\n",
       "      <td>0</td>\n",
       "      <td>3</td>\n",
       "      <td>Allen, Mr. William Henry</td>\n",
       "      <td>male</td>\n",
       "      <td>35.0</td>\n",
       "      <td>0</td>\n",
       "      <td>0</td>\n",
       "      <td>373450</td>\n",
       "      <td>8.0500</td>\n",
       "      <td>NaN</td>\n",
       "      <td>S</td>\n",
       "    </tr>\n",
       "  </tbody>\n",
       "</table>\n",
       "</div>"
      ],
      "text/plain": [
       "   PassengerId  Survived  Pclass  \\\n",
       "0            1         0       3   \n",
       "1            2         1       1   \n",
       "2            3         1       3   \n",
       "3            4         1       1   \n",
       "4            5         0       3   \n",
       "\n",
       "                                                Name     Sex   Age  SibSp  \\\n",
       "0                            Braund, Mr. Owen Harris    male  22.0      1   \n",
       "1  Cumings, Mrs. John Bradley (Florence Briggs Th...  female  38.0      1   \n",
       "2                             Heikkinen, Miss. Laina  female  26.0      0   \n",
       "3       Futrelle, Mrs. Jacques Heath (Lily May Peel)  female  35.0      1   \n",
       "4                           Allen, Mr. William Henry    male  35.0      0   \n",
       "\n",
       "   Parch            Ticket     Fare Cabin Embarked  \n",
       "0      0         A/5 21171   7.2500   NaN        S  \n",
       "1      0          PC 17599  71.2833   C85        C  \n",
       "2      0  STON/O2. 3101282   7.9250   NaN        S  \n",
       "3      0            113803  53.1000  C123        S  \n",
       "4      0            373450   8.0500   NaN        S  "
      ]
     },
     "execution_count": 3,
     "metadata": {},
     "output_type": "execute_result"
    }
   ],
   "source": [
    "df_train = pd.read_csv(\"../input/titanic/train.csv\")\n",
    "df_train.head()"
   ]
  },
  {
   "cell_type": "code",
   "execution_count": 4,
   "metadata": {
    "execution": {
     "iopub.execute_input": "2020-11-26T04:02:24.054573Z",
     "iopub.status.busy": "2020-11-26T04:02:24.053783Z",
     "iopub.status.idle": "2020-11-26T04:02:24.087470Z",
     "shell.execute_reply": "2020-11-26T04:02:24.086650Z"
    },
    "papermill": {
     "duration": 0.117829,
     "end_time": "2020-11-26T04:02:24.087605",
     "exception": false,
     "start_time": "2020-11-26T04:02:23.969776",
     "status": "completed"
    },
    "tags": []
   },
   "outputs": [
    {
     "data": {
      "text/html": [
       "<div>\n",
       "<style scoped>\n",
       "    .dataframe tbody tr th:only-of-type {\n",
       "        vertical-align: middle;\n",
       "    }\n",
       "\n",
       "    .dataframe tbody tr th {\n",
       "        vertical-align: top;\n",
       "    }\n",
       "\n",
       "    .dataframe thead th {\n",
       "        text-align: right;\n",
       "    }\n",
       "</style>\n",
       "<table border=\"1\" class=\"dataframe\">\n",
       "  <thead>\n",
       "    <tr style=\"text-align: right;\">\n",
       "      <th></th>\n",
       "      <th>Survived</th>\n",
       "      <th>Pclass</th>\n",
       "      <th>Age</th>\n",
       "      <th>SibSp</th>\n",
       "      <th>Parch</th>\n",
       "      <th>Fare</th>\n",
       "    </tr>\n",
       "  </thead>\n",
       "  <tbody>\n",
       "    <tr>\n",
       "      <th>count</th>\n",
       "      <td>891.000000</td>\n",
       "      <td>891.000000</td>\n",
       "      <td>714.000000</td>\n",
       "      <td>891.000000</td>\n",
       "      <td>891.000000</td>\n",
       "      <td>891.000000</td>\n",
       "    </tr>\n",
       "    <tr>\n",
       "      <th>mean</th>\n",
       "      <td>0.383838</td>\n",
       "      <td>2.308642</td>\n",
       "      <td>29.699118</td>\n",
       "      <td>0.523008</td>\n",
       "      <td>0.381594</td>\n",
       "      <td>32.204208</td>\n",
       "    </tr>\n",
       "    <tr>\n",
       "      <th>std</th>\n",
       "      <td>0.486592</td>\n",
       "      <td>0.836071</td>\n",
       "      <td>14.526497</td>\n",
       "      <td>1.102743</td>\n",
       "      <td>0.806057</td>\n",
       "      <td>49.693429</td>\n",
       "    </tr>\n",
       "    <tr>\n",
       "      <th>min</th>\n",
       "      <td>0.000000</td>\n",
       "      <td>1.000000</td>\n",
       "      <td>0.420000</td>\n",
       "      <td>0.000000</td>\n",
       "      <td>0.000000</td>\n",
       "      <td>0.000000</td>\n",
       "    </tr>\n",
       "    <tr>\n",
       "      <th>25%</th>\n",
       "      <td>0.000000</td>\n",
       "      <td>2.000000</td>\n",
       "      <td>20.125000</td>\n",
       "      <td>0.000000</td>\n",
       "      <td>0.000000</td>\n",
       "      <td>7.910400</td>\n",
       "    </tr>\n",
       "    <tr>\n",
       "      <th>50%</th>\n",
       "      <td>0.000000</td>\n",
       "      <td>3.000000</td>\n",
       "      <td>28.000000</td>\n",
       "      <td>0.000000</td>\n",
       "      <td>0.000000</td>\n",
       "      <td>14.454200</td>\n",
       "    </tr>\n",
       "    <tr>\n",
       "      <th>75%</th>\n",
       "      <td>1.000000</td>\n",
       "      <td>3.000000</td>\n",
       "      <td>38.000000</td>\n",
       "      <td>1.000000</td>\n",
       "      <td>0.000000</td>\n",
       "      <td>31.000000</td>\n",
       "    </tr>\n",
       "    <tr>\n",
       "      <th>max</th>\n",
       "      <td>1.000000</td>\n",
       "      <td>3.000000</td>\n",
       "      <td>80.000000</td>\n",
       "      <td>8.000000</td>\n",
       "      <td>6.000000</td>\n",
       "      <td>512.329200</td>\n",
       "    </tr>\n",
       "  </tbody>\n",
       "</table>\n",
       "</div>"
      ],
      "text/plain": [
       "         Survived      Pclass         Age       SibSp       Parch        Fare\n",
       "count  891.000000  891.000000  714.000000  891.000000  891.000000  891.000000\n",
       "mean     0.383838    2.308642   29.699118    0.523008    0.381594   32.204208\n",
       "std      0.486592    0.836071   14.526497    1.102743    0.806057   49.693429\n",
       "min      0.000000    1.000000    0.420000    0.000000    0.000000    0.000000\n",
       "25%      0.000000    2.000000   20.125000    0.000000    0.000000    7.910400\n",
       "50%      0.000000    3.000000   28.000000    0.000000    0.000000   14.454200\n",
       "75%      1.000000    3.000000   38.000000    1.000000    0.000000   31.000000\n",
       "max      1.000000    3.000000   80.000000    8.000000    6.000000  512.329200"
      ]
     },
     "execution_count": 4,
     "metadata": {},
     "output_type": "execute_result"
    }
   ],
   "source": [
    "df_train.drop([\"PassengerId\", \"Ticket\"], axis=1, inplace=True)\n",
    "df_train.describe()"
   ]
  },
  {
   "cell_type": "markdown",
   "metadata": {
    "papermill": {
     "duration": 0.063382,
     "end_time": "2020-11-26T04:02:24.217593",
     "exception": false,
     "start_time": "2020-11-26T04:02:24.154211",
     "status": "completed"
    },
    "tags": []
   },
   "source": [
    "From this, we can draw several quick observations:\n",
    "\n",
    "1. Roughly 38% of passengers survived\n",
    "\n",
    "\n",
    "2. The average passenger is around 30 years old, but there is high variance as standard deviation is >14.5. There are babies and elderly onboard as the minimum age is <1 and the oldest person onboard is 80 years old. However, most passengers (up to the 75th percentile) are <39 years old.\n",
    "\n",
    "\n",
    "3. Most people only brought 1 spouse/sibling onboard (up to 75th percentile). However, there are a few who brought a large family (up to 8 spouse + siblings). \n",
    "\n",
    "\n",
    "4. Most people did not bring their parents or children onboard (up to 75th percentile). But again, there are a few who brought a large family (up to 6 parents + children). \n",
    "\n",
    "\n",
    "5. Most people paid a relatively low fare (lower than the mean) for their tickets (75% paid 31 dollars or less while the mean is 32.2 dollars). However, there are a few passengers who paid an exorbitant price for their tickets (up to 512 dollars), possibly indicating the presence of VIPs."
   ]
  },
  {
   "cell_type": "code",
   "execution_count": 5,
   "metadata": {
    "execution": {
     "iopub.execute_input": "2020-11-26T04:02:24.354566Z",
     "iopub.status.busy": "2020-11-26T04:02:24.353444Z",
     "iopub.status.idle": "2020-11-26T04:02:24.356882Z",
     "shell.execute_reply": "2020-11-26T04:02:24.357475Z"
    },
    "papermill": {
     "duration": 0.076313,
     "end_time": "2020-11-26T04:02:24.357626",
     "exception": false,
     "start_time": "2020-11-26T04:02:24.281313",
     "status": "completed"
    },
    "tags": []
   },
   "outputs": [
    {
     "data": {
      "text/plain": [
       "Survived      0\n",
       "Pclass        0\n",
       "Name          0\n",
       "Sex           0\n",
       "Age         177\n",
       "SibSp         0\n",
       "Parch         0\n",
       "Fare          0\n",
       "Cabin       687\n",
       "Embarked      2\n",
       "dtype: int64"
      ]
     },
     "execution_count": 5,
     "metadata": {},
     "output_type": "execute_result"
    }
   ],
   "source": [
    "df_train.isnull().sum()"
   ]
  },
  {
   "cell_type": "markdown",
   "metadata": {
    "papermill": {
     "duration": 0.063575,
     "end_time": "2020-11-26T04:02:24.486207",
     "exception": false,
     "start_time": "2020-11-26T04:02:24.422632",
     "status": "completed"
    },
    "tags": []
   },
   "source": [
    "# Dealing with missing values"
   ]
  },
  {
   "cell_type": "markdown",
   "metadata": {
    "papermill": {
     "duration": 0.068141,
     "end_time": "2020-11-26T04:02:24.620587",
     "exception": false,
     "start_time": "2020-11-26T04:02:24.552446",
     "status": "completed"
    },
    "tags": []
   },
   "source": [
    "First, we are going to deal with the missing \"Age\" data. There are a few ways to impute the data, most commonly using the mean or the median. However, the mean is easily affected by extreme values and while the median is generally a good representation of our age distribution, we want a value that can represent the different demographics of our passengers. Hence, we will use salutations (Mr, Ms, Mdm etc) as a separator for the different demographics.\n",
    "\n",
    "Let's first extract the salutations from our dataset."
   ]
  },
  {
   "cell_type": "code",
   "execution_count": 6,
   "metadata": {
    "execution": {
     "iopub.execute_input": "2020-11-26T04:02:24.761270Z",
     "iopub.status.busy": "2020-11-26T04:02:24.760258Z",
     "iopub.status.idle": "2020-11-26T04:02:24.763437Z",
     "shell.execute_reply": "2020-11-26T04:02:24.762656Z"
    },
    "papermill": {
     "duration": 0.078735,
     "end_time": "2020-11-26T04:02:24.763563",
     "exception": false,
     "start_time": "2020-11-26T04:02:24.684828",
     "status": "completed"
    },
    "tags": []
   },
   "outputs": [],
   "source": [
    "import re\n",
    "df_train[\"Salutations\"] = df_train[\"Name\"].str.extract(r'([A-Z]{1}[a-z]+\\.)')"
   ]
  },
  {
   "cell_type": "code",
   "execution_count": 7,
   "metadata": {
    "execution": {
     "iopub.execute_input": "2020-11-26T04:02:24.900741Z",
     "iopub.status.busy": "2020-11-26T04:02:24.899728Z",
     "iopub.status.idle": "2020-11-26T04:02:24.904093Z",
     "shell.execute_reply": "2020-11-26T04:02:24.904642Z"
    },
    "papermill": {
     "duration": 0.076277,
     "end_time": "2020-11-26T04:02:24.904805",
     "exception": false,
     "start_time": "2020-11-26T04:02:24.828528",
     "status": "completed"
    },
    "tags": []
   },
   "outputs": [
    {
     "data": {
      "text/plain": [
       "array(['Mr.', 'Mrs.', 'Miss.', 'Master.', 'Don.', 'Rev.', 'Dr.', 'Mme.',\n",
       "       'Ms.', 'Major.', 'Lady.', 'Sir.', 'Mlle.', 'Col.', 'Capt.',\n",
       "       'Countess.', 'Jonkheer.'], dtype=object)"
      ]
     },
     "execution_count": 7,
     "metadata": {},
     "output_type": "execute_result"
    }
   ],
   "source": [
    "df_train[\"Salutations\"].unique()"
   ]
  },
  {
   "cell_type": "markdown",
   "metadata": {
    "papermill": {
     "duration": 0.067296,
     "end_time": "2020-11-26T04:02:25.040434",
     "exception": false,
     "start_time": "2020-11-26T04:02:24.973138",
     "status": "completed"
    },
    "tags": []
   },
   "source": [
    "From salutations alone, we managed to glean even more interesting data. It seems that there are nobility (Don, Countess and Jonkheer) and military personnel (Major, Col, Capt) onboard. There are also French equivalent of English salutations (Mme = Mrs, Mlle = Ms) and clergymen present(Rev, possibly Don). Let's further explore the salutations that are age significant (Master, Miss, Mister, Mrs)."
   ]
  },
  {
   "cell_type": "code",
   "execution_count": 8,
   "metadata": {
    "execution": {
     "iopub.execute_input": "2020-11-26T04:02:25.177309Z",
     "iopub.status.busy": "2020-11-26T04:02:25.176517Z",
     "iopub.status.idle": "2020-11-26T04:02:25.185385Z",
     "shell.execute_reply": "2020-11-26T04:02:25.184589Z"
    },
    "papermill": {
     "duration": 0.07944,
     "end_time": "2020-11-26T04:02:25.185515",
     "exception": false,
     "start_time": "2020-11-26T04:02:25.106075",
     "status": "completed"
    },
    "tags": []
   },
   "outputs": [
    {
     "data": {
      "text/plain": [
       "3.5"
      ]
     },
     "execution_count": 8,
     "metadata": {},
     "output_type": "execute_result"
    }
   ],
   "source": [
    "df_train[df_train[\"Salutations\"] == \"Master.\"][\"Age\"].median()"
   ]
  },
  {
   "cell_type": "code",
   "execution_count": 9,
   "metadata": {
    "execution": {
     "iopub.execute_input": "2020-11-26T04:02:25.328010Z",
     "iopub.status.busy": "2020-11-26T04:02:25.326897Z",
     "iopub.status.idle": "2020-11-26T04:02:25.330817Z",
     "shell.execute_reply": "2020-11-26T04:02:25.331353Z"
    },
    "papermill": {
     "duration": 0.079969,
     "end_time": "2020-11-26T04:02:25.331517",
     "exception": false,
     "start_time": "2020-11-26T04:02:25.251548",
     "status": "completed"
    },
    "tags": []
   },
   "outputs": [
    {
     "data": {
      "text/plain": [
       "21.0"
      ]
     },
     "execution_count": 9,
     "metadata": {},
     "output_type": "execute_result"
    }
   ],
   "source": [
    "df_train[(df_train[\"Salutations\"] == \"Miss.\") | (df_train[\"Salutations\"] == \"Ms.\") | (df_train[\"Salutations\"] == \"Mlle.\")][\"Age\"].median()"
   ]
  },
  {
   "cell_type": "code",
   "execution_count": 10,
   "metadata": {
    "execution": {
     "iopub.execute_input": "2020-11-26T04:02:25.472700Z",
     "iopub.status.busy": "2020-11-26T04:02:25.471730Z",
     "iopub.status.idle": "2020-11-26T04:02:25.476691Z",
     "shell.execute_reply": "2020-11-26T04:02:25.476063Z"
    },
    "papermill": {
     "duration": 0.078709,
     "end_time": "2020-11-26T04:02:25.476827",
     "exception": false,
     "start_time": "2020-11-26T04:02:25.398118",
     "status": "completed"
    },
    "tags": []
   },
   "outputs": [
    {
     "data": {
      "text/plain": [
       "30.0"
      ]
     },
     "execution_count": 10,
     "metadata": {},
     "output_type": "execute_result"
    }
   ],
   "source": [
    "df_train[df_train[\"Salutations\"] == \"Mr.\"][\"Age\"].median()"
   ]
  },
  {
   "cell_type": "code",
   "execution_count": 11,
   "metadata": {
    "execution": {
     "iopub.execute_input": "2020-11-26T04:02:25.620459Z",
     "iopub.status.busy": "2020-11-26T04:02:25.619190Z",
     "iopub.status.idle": "2020-11-26T04:02:25.624118Z",
     "shell.execute_reply": "2020-11-26T04:02:25.623309Z"
    },
    "papermill": {
     "duration": 0.080032,
     "end_time": "2020-11-26T04:02:25.624254",
     "exception": false,
     "start_time": "2020-11-26T04:02:25.544222",
     "status": "completed"
    },
    "tags": []
   },
   "outputs": [
    {
     "data": {
      "text/plain": [
       "35.0"
      ]
     },
     "execution_count": 11,
     "metadata": {},
     "output_type": "execute_result"
    }
   ],
   "source": [
    "df_train[(df_train[\"Salutations\"] == \"Mrs.\") | (df_train[\"Salutations\"] == \"Mme.\")][\"Age\"].median()"
   ]
  },
  {
   "cell_type": "markdown",
   "metadata": {
    "papermill": {
     "duration": 0.087718,
     "end_time": "2020-11-26T04:02:25.785679",
     "exception": false,
     "start_time": "2020-11-26T04:02:25.697961",
     "status": "completed"
    },
    "tags": []
   },
   "source": [
    "As we can see from their median values, each salutation represents a different age group. It is also reasonable to assume that high-ranking military personnel and nobility are usually older, so we shall group them along with other uncommon titles such as Rev and Dr. Let's now create a new feature column with these categories."
   ]
  },
  {
   "cell_type": "code",
   "execution_count": 12,
   "metadata": {
    "execution": {
     "iopub.execute_input": "2020-11-26T04:02:25.951939Z",
     "iopub.status.busy": "2020-11-26T04:02:25.951119Z",
     "iopub.status.idle": "2020-11-26T04:02:25.954513Z",
     "shell.execute_reply": "2020-11-26T04:02:25.953752Z"
    },
    "papermill": {
     "duration": 0.081103,
     "end_time": "2020-11-26T04:02:25.954646",
     "exception": false,
     "start_time": "2020-11-26T04:02:25.873543",
     "status": "completed"
    },
    "tags": []
   },
   "outputs": [],
   "source": [
    "master = (df_train[\"Salutations\"] == \"Master.\")\n",
    "miss = (df_train[\"Salutations\"] == \"Miss.\") | (df_train[\"Salutations\"] == \"Ms.\") | (df_train[\"Salutations\"] == \"Mlle.\")\n",
    "mister = (df_train[\"Salutations\"] == \"Mr.\")\n",
    "missus = (df_train[\"Salutations\"] == \"Mrs.\") | (df_train[\"Salutations\"] == \"Mme.\")"
   ]
  },
  {
   "cell_type": "code",
   "execution_count": 13,
   "metadata": {
    "execution": {
     "iopub.execute_input": "2020-11-26T04:02:26.110286Z",
     "iopub.status.busy": "2020-11-26T04:02:26.109152Z",
     "iopub.status.idle": "2020-11-26T04:02:26.112778Z",
     "shell.execute_reply": "2020-11-26T04:02:26.112188Z"
    },
    "papermill": {
     "duration": 0.088643,
     "end_time": "2020-11-26T04:02:26.112908",
     "exception": false,
     "start_time": "2020-11-26T04:02:26.024265",
     "status": "completed"
    },
    "tags": []
   },
   "outputs": [],
   "source": [
    "df_train[\"Title\"] = \"Others\"\n",
    "df_train[\"Title\"][master] = \"Master\"\n",
    "df_train[\"Title\"][miss] = \"Miss\"\n",
    "df_train[\"Title\"][mister] = \"Mister\"\n",
    "df_train[\"Title\"][missus] = \"Missus\""
   ]
  },
  {
   "cell_type": "markdown",
   "metadata": {
    "papermill": {
     "duration": 0.067497,
     "end_time": "2020-11-26T04:02:26.248865",
     "exception": false,
     "start_time": "2020-11-26T04:02:26.181368",
     "status": "completed"
    },
    "tags": []
   },
   "source": [
    "We will now fill in the missing values for \"Age\" according to their titles. We will use the median for each demographic as a replacement."
   ]
  },
  {
   "cell_type": "code",
   "execution_count": 14,
   "metadata": {
    "execution": {
     "iopub.execute_input": "2020-11-26T04:02:26.402911Z",
     "iopub.status.busy": "2020-11-26T04:02:26.397968Z",
     "iopub.status.idle": "2020-11-26T04:02:26.406453Z",
     "shell.execute_reply": "2020-11-26T04:02:26.405629Z"
    },
    "papermill": {
     "duration": 0.089342,
     "end_time": "2020-11-26T04:02:26.406610",
     "exception": false,
     "start_time": "2020-11-26T04:02:26.317268",
     "status": "completed"
    },
    "tags": []
   },
   "outputs": [],
   "source": [
    "df_train[\"Age\"] = df_train.groupby(\"Title\")[\"Age\"].apply(lambda x: x.fillna(x.median()))"
   ]
  },
  {
   "cell_type": "markdown",
   "metadata": {
    "papermill": {
     "duration": 0.068215,
     "end_time": "2020-11-26T04:02:26.545985",
     "exception": false,
     "start_time": "2020-11-26T04:02:26.477770",
     "status": "completed"
    },
    "tags": []
   },
   "source": [
    "Now we have to deal with the missing data for \"Cabin\". A large proportion of it is missing, but the little amount of data that we have is important as the first letter of each cabin represents the deck. 'A' is at the top, 'B' is below 'A' and so on. We will replace all missing values with 'Z' and come back to analyze this later on."
   ]
  },
  {
   "cell_type": "code",
   "execution_count": 15,
   "metadata": {
    "execution": {
     "iopub.execute_input": "2020-11-26T04:02:26.691927Z",
     "iopub.status.busy": "2020-11-26T04:02:26.691077Z",
     "iopub.status.idle": "2020-11-26T04:02:26.694692Z",
     "shell.execute_reply": "2020-11-26T04:02:26.694089Z"
    },
    "papermill": {
     "duration": 0.080946,
     "end_time": "2020-11-26T04:02:26.694824",
     "exception": false,
     "start_time": "2020-11-26T04:02:26.613878",
     "status": "completed"
    },
    "tags": []
   },
   "outputs": [],
   "source": [
    "df_train[\"Cabin\"] = df_train[\"Cabin\"].str.extract(r'([A-Z]{1})').fillna('Z')"
   ]
  },
  {
   "cell_type": "markdown",
   "metadata": {
    "papermill": {
     "duration": 0.068437,
     "end_time": "2020-11-26T04:02:26.831810",
     "exception": false,
     "start_time": "2020-11-26T04:02:26.763373",
     "status": "completed"
    },
    "tags": []
   },
   "source": [
    "Finally, we have to deal with 2 missing values in \"Embarked\". Let's just replace them with the most common value."
   ]
  },
  {
   "cell_type": "code",
   "execution_count": 16,
   "metadata": {
    "execution": {
     "iopub.execute_input": "2020-11-26T04:02:26.976938Z",
     "iopub.status.busy": "2020-11-26T04:02:26.975846Z",
     "iopub.status.idle": "2020-11-26T04:02:26.981140Z",
     "shell.execute_reply": "2020-11-26T04:02:26.980463Z"
    },
    "papermill": {
     "duration": 0.081172,
     "end_time": "2020-11-26T04:02:26.981285",
     "exception": false,
     "start_time": "2020-11-26T04:02:26.900113",
     "status": "completed"
    },
    "tags": []
   },
   "outputs": [
    {
     "data": {
      "text/plain": [
       "0    S\n",
       "dtype: object"
      ]
     },
     "execution_count": 16,
     "metadata": {},
     "output_type": "execute_result"
    }
   ],
   "source": [
    "df_train[\"Embarked\"].mode()"
   ]
  },
  {
   "cell_type": "code",
   "execution_count": 17,
   "metadata": {
    "execution": {
     "iopub.execute_input": "2020-11-26T04:02:27.127314Z",
     "iopub.status.busy": "2020-11-26T04:02:27.126568Z",
     "iopub.status.idle": "2020-11-26T04:02:27.129552Z",
     "shell.execute_reply": "2020-11-26T04:02:27.130141Z"
    },
    "papermill": {
     "duration": 0.078652,
     "end_time": "2020-11-26T04:02:27.130312",
     "exception": false,
     "start_time": "2020-11-26T04:02:27.051660",
     "status": "completed"
    },
    "tags": []
   },
   "outputs": [],
   "source": [
    "df_train[\"Embarked\"] = df_train[\"Embarked\"].fillna('S')"
   ]
  },
  {
   "cell_type": "markdown",
   "metadata": {
    "papermill": {
     "duration": 0.068699,
     "end_time": "2020-11-26T04:02:27.267943",
     "exception": false,
     "start_time": "2020-11-26T04:02:27.199244",
     "status": "completed"
    },
    "tags": []
   },
   "source": [
    "Now, let's check our dataset before we start analysing the data."
   ]
  },
  {
   "cell_type": "code",
   "execution_count": 18,
   "metadata": {
    "execution": {
     "iopub.execute_input": "2020-11-26T04:02:27.419620Z",
     "iopub.status.busy": "2020-11-26T04:02:27.413095Z",
     "iopub.status.idle": "2020-11-26T04:02:27.424932Z",
     "shell.execute_reply": "2020-11-26T04:02:27.424195Z"
    },
    "papermill": {
     "duration": 0.087953,
     "end_time": "2020-11-26T04:02:27.425075",
     "exception": false,
     "start_time": "2020-11-26T04:02:27.337122",
     "status": "completed"
    },
    "tags": []
   },
   "outputs": [
    {
     "name": "stdout",
     "output_type": "stream",
     "text": [
      "<class 'pandas.core.frame.DataFrame'>\n",
      "RangeIndex: 891 entries, 0 to 890\n",
      "Data columns (total 12 columns):\n",
      " #   Column       Non-Null Count  Dtype  \n",
      "---  ------       --------------  -----  \n",
      " 0   Survived     891 non-null    int64  \n",
      " 1   Pclass       891 non-null    int64  \n",
      " 2   Name         891 non-null    object \n",
      " 3   Sex          891 non-null    object \n",
      " 4   Age          891 non-null    float64\n",
      " 5   SibSp        891 non-null    int64  \n",
      " 6   Parch        891 non-null    int64  \n",
      " 7   Fare         891 non-null    float64\n",
      " 8   Cabin        891 non-null    object \n",
      " 9   Embarked     891 non-null    object \n",
      " 10  Salutations  891 non-null    object \n",
      " 11  Title        891 non-null    object \n",
      "dtypes: float64(2), int64(4), object(6)\n",
      "memory usage: 83.7+ KB\n"
     ]
    }
   ],
   "source": [
    "df_train.info()"
   ]
  },
  {
   "cell_type": "markdown",
   "metadata": {
    "papermill": {
     "duration": 0.070563,
     "end_time": "2020-11-26T04:02:27.566282",
     "exception": false,
     "start_time": "2020-11-26T04:02:27.495719",
     "status": "completed"
    },
    "tags": []
   },
   "source": [
    "Great. We managed to replace all missing values. Let's drop the irrelevant features in our dataset and take a final look at our clean data."
   ]
  },
  {
   "cell_type": "code",
   "execution_count": 19,
   "metadata": {
    "execution": {
     "iopub.execute_input": "2020-11-26T04:02:27.730013Z",
     "iopub.status.busy": "2020-11-26T04:02:27.728835Z",
     "iopub.status.idle": "2020-11-26T04:02:27.733735Z",
     "shell.execute_reply": "2020-11-26T04:02:27.732906Z"
    },
    "papermill": {
     "duration": 0.096706,
     "end_time": "2020-11-26T04:02:27.733866",
     "exception": false,
     "start_time": "2020-11-26T04:02:27.637160",
     "status": "completed"
    },
    "tags": []
   },
   "outputs": [
    {
     "data": {
      "text/html": [
       "<div>\n",
       "<style scoped>\n",
       "    .dataframe tbody tr th:only-of-type {\n",
       "        vertical-align: middle;\n",
       "    }\n",
       "\n",
       "    .dataframe tbody tr th {\n",
       "        vertical-align: top;\n",
       "    }\n",
       "\n",
       "    .dataframe thead th {\n",
       "        text-align: right;\n",
       "    }\n",
       "</style>\n",
       "<table border=\"1\" class=\"dataframe\">\n",
       "  <thead>\n",
       "    <tr style=\"text-align: right;\">\n",
       "      <th></th>\n",
       "      <th>Survived</th>\n",
       "      <th>Pclass</th>\n",
       "      <th>Sex</th>\n",
       "      <th>Age</th>\n",
       "      <th>SibSp</th>\n",
       "      <th>Parch</th>\n",
       "      <th>Fare</th>\n",
       "      <th>Cabin</th>\n",
       "      <th>Embarked</th>\n",
       "      <th>Title</th>\n",
       "    </tr>\n",
       "  </thead>\n",
       "  <tbody>\n",
       "    <tr>\n",
       "      <th>0</th>\n",
       "      <td>0</td>\n",
       "      <td>3</td>\n",
       "      <td>male</td>\n",
       "      <td>22.0</td>\n",
       "      <td>1</td>\n",
       "      <td>0</td>\n",
       "      <td>7.2500</td>\n",
       "      <td>Z</td>\n",
       "      <td>S</td>\n",
       "      <td>Mister</td>\n",
       "    </tr>\n",
       "    <tr>\n",
       "      <th>1</th>\n",
       "      <td>1</td>\n",
       "      <td>1</td>\n",
       "      <td>female</td>\n",
       "      <td>38.0</td>\n",
       "      <td>1</td>\n",
       "      <td>0</td>\n",
       "      <td>71.2833</td>\n",
       "      <td>C</td>\n",
       "      <td>C</td>\n",
       "      <td>Missus</td>\n",
       "    </tr>\n",
       "    <tr>\n",
       "      <th>2</th>\n",
       "      <td>1</td>\n",
       "      <td>3</td>\n",
       "      <td>female</td>\n",
       "      <td>26.0</td>\n",
       "      <td>0</td>\n",
       "      <td>0</td>\n",
       "      <td>7.9250</td>\n",
       "      <td>Z</td>\n",
       "      <td>S</td>\n",
       "      <td>Miss</td>\n",
       "    </tr>\n",
       "    <tr>\n",
       "      <th>3</th>\n",
       "      <td>1</td>\n",
       "      <td>1</td>\n",
       "      <td>female</td>\n",
       "      <td>35.0</td>\n",
       "      <td>1</td>\n",
       "      <td>0</td>\n",
       "      <td>53.1000</td>\n",
       "      <td>C</td>\n",
       "      <td>S</td>\n",
       "      <td>Missus</td>\n",
       "    </tr>\n",
       "    <tr>\n",
       "      <th>4</th>\n",
       "      <td>0</td>\n",
       "      <td>3</td>\n",
       "      <td>male</td>\n",
       "      <td>35.0</td>\n",
       "      <td>0</td>\n",
       "      <td>0</td>\n",
       "      <td>8.0500</td>\n",
       "      <td>Z</td>\n",
       "      <td>S</td>\n",
       "      <td>Mister</td>\n",
       "    </tr>\n",
       "  </tbody>\n",
       "</table>\n",
       "</div>"
      ],
      "text/plain": [
       "   Survived  Pclass     Sex   Age  SibSp  Parch     Fare Cabin Embarked  \\\n",
       "0         0       3    male  22.0      1      0   7.2500     Z        S   \n",
       "1         1       1  female  38.0      1      0  71.2833     C        C   \n",
       "2         1       3  female  26.0      0      0   7.9250     Z        S   \n",
       "3         1       1  female  35.0      1      0  53.1000     C        S   \n",
       "4         0       3    male  35.0      0      0   8.0500     Z        S   \n",
       "\n",
       "    Title  \n",
       "0  Mister  \n",
       "1  Missus  \n",
       "2    Miss  \n",
       "3  Missus  \n",
       "4  Mister  "
      ]
     },
     "execution_count": 19,
     "metadata": {},
     "output_type": "execute_result"
    }
   ],
   "source": [
    "df_train.drop([\"Name\", \"Salutations\"], axis=1, inplace=True)\n",
    "df_train.head()"
   ]
  },
  {
   "cell_type": "markdown",
   "metadata": {
    "papermill": {
     "duration": 0.07202,
     "end_time": "2020-11-26T04:02:27.877895",
     "exception": false,
     "start_time": "2020-11-26T04:02:27.805875",
     "status": "completed"
    },
    "tags": []
   },
   "source": [
    "# Data Visualisation & Feature Engineering"
   ]
  },
  {
   "cell_type": "markdown",
   "metadata": {
    "papermill": {
     "duration": 0.07156,
     "end_time": "2020-11-26T04:02:28.021858",
     "exception": false,
     "start_time": "2020-11-26T04:02:27.950298",
     "status": "completed"
    },
    "tags": []
   },
   "source": [
    "We will take a look at each feature and see how they relate to survival."
   ]
  },
  {
   "cell_type": "code",
   "execution_count": 20,
   "metadata": {
    "execution": {
     "iopub.execute_input": "2020-11-26T04:02:28.174505Z",
     "iopub.status.busy": "2020-11-26T04:02:28.173562Z",
     "iopub.status.idle": "2020-11-26T04:02:28.501818Z",
     "shell.execute_reply": "2020-11-26T04:02:28.501167Z"
    },
    "papermill": {
     "duration": 0.405109,
     "end_time": "2020-11-26T04:02:28.501958",
     "exception": false,
     "start_time": "2020-11-26T04:02:28.096849",
     "status": "completed"
    },
    "tags": []
   },
   "outputs": [
    {
     "data": {
      "text/plain": [
       "<matplotlib.axes._subplots.AxesSubplot at 0x7fe0cb763b90>"
      ]
     },
     "execution_count": 20,
     "metadata": {},
     "output_type": "execute_result"
    },
    {
     "data": {
      "image/png": "[encoded data removed]",
      "text/plain": [
       "<Figure size 576x576 with 1 Axes>"
      ]
     },
     "metadata": {
      "needs_background": "light"
     },
     "output_type": "display_data"
    }
   ],
   "source": [
    "plt.figure(figsize=(8,8))\n",
    "sns.countplot(\"Pclass\", data=df_train, hue=\"Survived\")"
   ]
  },
  {
   "cell_type": "markdown",
   "metadata": {
    "papermill": {
     "duration": 0.072441,
     "end_time": "2020-11-26T04:02:28.647366",
     "exception": false,
     "start_time": "2020-11-26T04:02:28.574925",
     "status": "completed"
    },
    "tags": []
   },
   "source": [
    "Next, let's take a look at sex and see how it affects survival."
   ]
  },
  {
   "cell_type": "code",
   "execution_count": 21,
   "metadata": {
    "execution": {
     "iopub.execute_input": "2020-11-26T04:02:28.828294Z",
     "iopub.status.busy": "2020-11-26T04:02:28.818948Z",
     "iopub.status.idle": "2020-11-26T04:02:29.079424Z",
     "shell.execute_reply": "2020-11-26T04:02:29.078650Z"
    },
    "papermill": {
     "duration": 0.350466,
     "end_time": "2020-11-26T04:02:29.079557",
     "exception": false,
     "start_time": "2020-11-26T04:02:28.729091",
     "status": "completed"
    },
    "tags": []
   },
   "outputs": [
    {
     "data": {
      "image/png": "[encoded data removed]",
      "text/plain": [
       "<Figure size 720x432 with 2 Axes>"
      ]
     },
     "metadata": {
      "needs_background": "light"
     },
     "output_type": "display_data"
    }
   ],
   "source": [
    "fig, axes = plt.subplots(nrows=1, ncols=2,figsize=(10, 6))\n",
    "ax=sns.countplot(\"Sex\", data=df_train, hue=\"Survived\", ax = axes[0])\n",
    "ax1=df_train[\"Sex\"].value_counts().plot.pie(autopct='%1.1f%%', ax = axes[1])"
   ]
  },
  {
   "cell_type": "markdown",
   "metadata": {
    "papermill": {
     "duration": 0.074412,
     "end_time": "2020-11-26T04:02:29.227985",
     "exception": false,
     "start_time": "2020-11-26T04:02:29.153573",
     "status": "completed"
    },
    "tags": []
   },
   "source": [
    "It is evident that females have a higher rate of survival as compared to men (65% of passengers were male and most of them did not survive). Let's convert this categorical data to numerical. 1 for female, and 0 for men."
   ]
  },
  {
   "cell_type": "code",
   "execution_count": 22,
   "metadata": {
    "execution": {
     "iopub.execute_input": "2020-11-26T04:02:29.454670Z",
     "iopub.status.busy": "2020-11-26T04:02:29.453697Z",
     "iopub.status.idle": "2020-11-26T04:02:29.457285Z",
     "shell.execute_reply": "2020-11-26T04:02:29.456609Z"
    },
    "papermill": {
     "duration": 0.093688,
     "end_time": "2020-11-26T04:02:29.457429",
     "exception": false,
     "start_time": "2020-11-26T04:02:29.363741",
     "status": "completed"
    },
    "tags": []
   },
   "outputs": [],
   "source": [
    "sex = {\"male\": 0, \"female\": 1}\n",
    "df_train[\"Sex\"] = df_train[\"Sex\"].map(sex)"
   ]
  },
  {
   "cell_type": "markdown",
   "metadata": {
    "papermill": {
     "duration": 0.080409,
     "end_time": "2020-11-26T04:02:29.615142",
     "exception": false,
     "start_time": "2020-11-26T04:02:29.534733",
     "status": "completed"
    },
    "tags": []
   },
   "source": [
    "Next, we want to see how age affects chances of survival. This is especially important as we previously identified that there is high variance in age, that 75% of passengers are <39 years old, and there are babies and elderly onboard. We want to see how those factors are related to survival. Let's first plot the distribution of age against survival."
   ]
  },
  {
   "cell_type": "code",
   "execution_count": 23,
   "metadata": {
    "execution": {
     "iopub.execute_input": "2020-11-26T04:02:29.780413Z",
     "iopub.status.busy": "2020-11-26T04:02:29.778376Z",
     "iopub.status.idle": "2020-11-26T04:02:30.154269Z",
     "shell.execute_reply": "2020-11-26T04:02:30.153404Z"
    },
    "papermill": {
     "duration": 0.461255,
     "end_time": "2020-11-26T04:02:30.154419",
     "exception": false,
     "start_time": "2020-11-26T04:02:29.693164",
     "status": "completed"
    },
    "tags": []
   },
   "outputs": [
    {
     "data": {
      "text/plain": [
       "<matplotlib.legend.Legend at 0x7fe0cb783790>"
      ]
     },
     "execution_count": 23,
     "metadata": {},
     "output_type": "execute_result"
    },
    {
     "data": {
      "image/png": "[encoded data removed]",
      "text/plain": [
       "<Figure size 576x576 with 1 Axes>"
      ]
     },
     "metadata": {
      "needs_background": "light"
     },
     "output_type": "display_data"
    }
   ],
   "source": [
    "plt.figure(figsize=(8,8))\n",
    "survived = df_train[df_train[\"Survived\"] == 1]\n",
    "not_survived =  df_train[df_train[\"Survived\"] == 0]\n",
    "\n",
    "sns.distplot(survived[\"Age\"], kde=False, label='Survived')\n",
    "sns.distplot(not_survived[\"Age\"], kde=False, label='Did not survive')\n",
    "plt.legend()"
   ]
  },
  {
   "cell_type": "markdown",
   "metadata": {
    "papermill": {
     "duration": 0.077556,
     "end_time": "2020-11-26T04:02:30.316836",
     "exception": false,
     "start_time": "2020-11-26T04:02:30.239280",
     "status": "completed"
    },
    "tags": []
   },
   "source": [
    "It is difficult to relate survival with age alone as they seem to follow the same distribution. Let's try including sex as a factor as we saw that 65% of survivors were female."
   ]
  },
  {
   "cell_type": "code",
   "execution_count": 24,
   "metadata": {
    "execution": {
     "iopub.execute_input": "2020-11-26T04:02:30.487466Z",
     "iopub.status.busy": "2020-11-26T04:02:30.486459Z",
     "iopub.status.idle": "2020-11-26T04:02:31.263823Z",
     "shell.execute_reply": "2020-11-26T04:02:31.264391Z"
    },
    "papermill": {
     "duration": 0.869312,
     "end_time": "2020-11-26T04:02:31.264561",
     "exception": false,
     "start_time": "2020-11-26T04:02:30.395249",
     "status": "completed"
    },
    "tags": []
   },
   "outputs": [
    {
     "data": {
      "text/plain": [
       "Text(0.5, 1.0, 'Male')"
      ]
     },
     "execution_count": 24,
     "metadata": {},
     "output_type": "execute_result"
    },
    {
     "data": {
      "image/png": "[encoded data removed]",
      "text/plain": [
       "<Figure size 864x576 with 2 Axes>"
      ]
     },
     "metadata": {
      "needs_background": "light"
     },
     "output_type": "display_data"
    }
   ],
   "source": [
    "fig, axes = plt.subplots(nrows=1, ncols=2,figsize=(12, 8))\n",
    "men = df_train[df_train[\"Sex\"] == 0]\n",
    "women = df_train[df_train[\"Sex\"] == 1]\n",
    "\n",
    "ax = sns.distplot(women[women['Survived']==1][\"Age\"], label=\"Survived\", ax=axes[0], kde=False, bins=20)\n",
    "ax1 = sns.distplot(women[women['Survived']==0][\"Age\"], label=\"Did not survive\", ax=axes[0], kde=False, bins=20)\n",
    "ax.legend()\n",
    "ax.set_title('Female')\n",
    "\n",
    "ax = sns.distplot(men[men['Survived']==1][\"Age\"], label=\"Survived\", ax=axes[1], kde=False, bins=20)\n",
    "ax1 = sns.distplot(men[men['Survived']==0][\"Age\"], label=\"Did not survive\", ax=axes[1], kde=False, bins=20)\n",
    "ax.legend()\n",
    "ax.set_title('Male')"
   ]
  },
  {
   "cell_type": "markdown",
   "metadata": {
    "papermill": {
     "duration": 0.08672,
     "end_time": "2020-11-26T04:02:31.427893",
     "exception": false,
     "start_time": "2020-11-26T04:02:31.341173",
     "status": "completed"
    },
    "tags": []
   },
   "source": [
    "Awesome. Now we can see that majority of both genders age <8 has a high survival rate, women have a high survival rate between age 14 - 40, and men aged slightly <30 have the highest risk of dying. Let's translate age into a equal-sized feature column with the help of qcut function from pandas."
   ]
  },
  {
   "cell_type": "code",
   "execution_count": 25,
   "metadata": {
    "execution": {
     "iopub.execute_input": "2020-11-26T04:02:31.603427Z",
     "iopub.status.busy": "2020-11-26T04:02:31.602564Z",
     "iopub.status.idle": "2020-11-26T04:02:31.619558Z",
     "shell.execute_reply": "2020-11-26T04:02:31.618765Z"
    },
    "papermill": {
     "duration": 0.111379,
     "end_time": "2020-11-26T04:02:31.619700",
     "exception": false,
     "start_time": "2020-11-26T04:02:31.508321",
     "status": "completed"
    },
    "tags": []
   },
   "outputs": [
    {
     "data": {
      "text/plain": [
       "0       (21.0, 28.0]\n",
       "1       (30.0, 39.0]\n",
       "2       (21.0, 28.0]\n",
       "3       (30.0, 39.0]\n",
       "4       (30.0, 39.0]\n",
       "           ...      \n",
       "886     (21.0, 28.0]\n",
       "887    (8.999, 21.0]\n",
       "888    (8.999, 21.0]\n",
       "889     (21.0, 28.0]\n",
       "890     (30.0, 39.0]\n",
       "Name: Age, Length: 833, dtype: category\n",
       "Categories (5, interval[float64]): [(8.999, 21.0] < (21.0, 28.0] < (28.0, 30.0] < (30.0, 39.0] < (39.0, 80.0]]"
      ]
     },
     "execution_count": 25,
     "metadata": {},
     "output_type": "execute_result"
    }
   ],
   "source": [
    "pd.qcut(df_train[df_train[\"Age\"]>8][\"Age\"], 5)"
   ]
  },
  {
   "cell_type": "code",
   "execution_count": 26,
   "metadata": {
    "execution": {
     "iopub.execute_input": "2020-11-26T04:02:31.788557Z",
     "iopub.status.busy": "2020-11-26T04:02:31.787402Z",
     "iopub.status.idle": "2020-11-26T04:02:31.791369Z",
     "shell.execute_reply": "2020-11-26T04:02:31.790538Z"
    },
    "papermill": {
     "duration": 0.094481,
     "end_time": "2020-11-26T04:02:31.791504",
     "exception": false,
     "start_time": "2020-11-26T04:02:31.697023",
     "status": "completed"
    },
    "tags": []
   },
   "outputs": [],
   "source": [
    "age = (df_train[\"Age\"] < 8)\n",
    "age1 = (df_train[\"Age\"] >= 9) & (df_train[\"Age\"] < 21)\n",
    "age2 = (df_train[\"Age\"] >= 21) & (df_train[\"Age\"] < 28)\n",
    "age3 = (df_train[\"Age\"] >= 28) & (df_train[\"Age\"] < 30)\n",
    "age4 = (df_train[\"Age\"] >= 28) & (df_train[\"Age\"] < 39)\n",
    "age5 = (df_train[\"Age\"] >= 39)"
   ]
  },
  {
   "cell_type": "code",
   "execution_count": 27,
   "metadata": {
    "execution": {
     "iopub.execute_input": "2020-11-26T04:02:31.968337Z",
     "iopub.status.busy": "2020-11-26T04:02:31.967449Z",
     "iopub.status.idle": "2020-11-26T04:02:31.980174Z",
     "shell.execute_reply": "2020-11-26T04:02:31.979420Z"
    },
    "papermill": {
     "duration": 0.105739,
     "end_time": "2020-11-26T04:02:31.980334",
     "exception": false,
     "start_time": "2020-11-26T04:02:31.874595",
     "status": "completed"
    },
    "tags": []
   },
   "outputs": [],
   "source": [
    "df_train[\"Age\"][age] = 0\n",
    "df_train[\"Age\"][age1] = 1\n",
    "df_train[\"Age\"][age2] = 2\n",
    "df_train[\"Age\"][age3] = 3\n",
    "df_train[\"Age\"][age4] = 4\n",
    "df_train[\"Age\"][age5] = 5"
   ]
  },
  {
   "cell_type": "markdown",
   "metadata": {
    "papermill": {
     "duration": 0.078863,
     "end_time": "2020-11-26T04:02:32.140380",
     "exception": false,
     "start_time": "2020-11-26T04:02:32.061517",
     "status": "completed"
    },
    "tags": []
   },
   "source": [
    "Next, we will combine the number of sibilings/spouses and parents/children to get the total number of family members onboard. Then we will take a look at how that relates to survival."
   ]
  },
  {
   "cell_type": "code",
   "execution_count": 28,
   "metadata": {
    "execution": {
     "iopub.execute_input": "2020-11-26T04:02:32.315108Z",
     "iopub.status.busy": "2020-11-26T04:02:32.313843Z",
     "iopub.status.idle": "2020-11-26T04:02:33.171528Z",
     "shell.execute_reply": "2020-11-26T04:02:33.170861Z"
    },
    "papermill": {
     "duration": 0.949119,
     "end_time": "2020-11-26T04:02:33.171682",
     "exception": false,
     "start_time": "2020-11-26T04:02:32.222563",
     "status": "completed"
    },
    "tags": []
   },
   "outputs": [
    {
     "data": {
      "text/plain": [
       "<matplotlib.legend.Legend at 0x7fe0cb4d38d0>"
      ]
     },
     "execution_count": 28,
     "metadata": {},
     "output_type": "execute_result"
    },
    {
     "data": {
      "image/png": "[encoded data removed]",
      "text/plain": [
       "<Figure size 720x720 with 1 Axes>"
      ]
     },
     "metadata": {
      "needs_background": "light"
     },
     "output_type": "display_data"
    }
   ],
   "source": [
    "plt.figure(figsize=(10, 10))\n",
    "df_train[\"Family\"] = df_train[\"SibSp\"] + df_train[\"Parch\"]\n",
    "survived = df_train[df_train[\"Survived\"] == 1]\n",
    "not_survived =  df_train[df_train[\"Survived\"] == 0]\n",
    "\n",
    "sns.distplot(survived[\"Family\"], kde=False, label=\"Survived\", bins=100)\n",
    "sns.distplot(not_survived[\"Family\"], kde=False, label=\"Did not survive\", bins=100)\n",
    "plt.legend()"
   ]
  },
  {
   "cell_type": "markdown",
   "metadata": {
    "papermill": {
     "duration": 0.088648,
     "end_time": "2020-11-26T04:02:33.349554",
     "exception": false,
     "start_time": "2020-11-26T04:02:33.260906",
     "status": "completed"
    },
    "tags": []
   },
   "source": [
    "From here, we can see that your chances of survival is lowest when you have no family and have 4 or more family members. Let's reflect that as a feature column."
   ]
  },
  {
   "cell_type": "code",
   "execution_count": 29,
   "metadata": {
    "execution": {
     "iopub.execute_input": "2020-11-26T04:02:33.550479Z",
     "iopub.status.busy": "2020-11-26T04:02:33.549369Z",
     "iopub.status.idle": "2020-11-26T04:02:33.552607Z",
     "shell.execute_reply": "2020-11-26T04:02:33.551764Z"
    },
    "papermill": {
     "duration": 0.104095,
     "end_time": "2020-11-26T04:02:33.552746",
     "exception": false,
     "start_time": "2020-11-26T04:02:33.448651",
     "status": "completed"
    },
    "tags": []
   },
   "outputs": [],
   "source": [
    "none = (df_train[\"Family\"] == 0)\n",
    "four = (df_train[\"Family\"] >= 4)\n",
    "\n",
    "df_train[\"Fam_Cat\"] = 1\n",
    "df_train[\"Fam_Cat\"][none] = 0\n",
    "df_train[\"Fam_Cat\"][four] = 2"
   ]
  },
  {
   "cell_type": "markdown",
   "metadata": {
    "papermill": {
     "duration": 0.081072,
     "end_time": "2020-11-26T04:02:33.723401",
     "exception": false,
     "start_time": "2020-11-26T04:02:33.642329",
     "status": "completed"
    },
    "tags": []
   },
   "source": [
    "Now we will look at how Fare paid affects your chances of survival."
   ]
  },
  {
   "cell_type": "code",
   "execution_count": 30,
   "metadata": {
    "execution": {
     "iopub.execute_input": "2020-11-26T04:02:33.894760Z",
     "iopub.status.busy": "2020-11-26T04:02:33.893881Z",
     "iopub.status.idle": "2020-11-26T04:02:34.698001Z",
     "shell.execute_reply": "2020-11-26T04:02:34.698587Z"
    },
    "papermill": {
     "duration": 0.895775,
     "end_time": "2020-11-26T04:02:34.698749",
     "exception": false,
     "start_time": "2020-11-26T04:02:33.802974",
     "status": "completed"
    },
    "tags": []
   },
   "outputs": [
    {
     "data": {
      "text/plain": [
       "<matplotlib.legend.Legend at 0x7fe0cb81bed0>"
      ]
     },
     "execution_count": 30,
     "metadata": {},
     "output_type": "execute_result"
    },
    {
     "data": {
      "image/png": "[encoded data removed]",
      "text/plain": [
       "<Figure size 720x720 with 1 Axes>"
      ]
     },
     "metadata": {
      "needs_background": "light"
     },
     "output_type": "display_data"
    }
   ],
   "source": [
    "plt.figure(figsize=(10, 10))\n",
    "survived = df_train[df_train[\"Survived\"] == 1]\n",
    "not_survived =  df_train[df_train[\"Survived\"] == 0]\n",
    "\n",
    "sns.distplot(survived[\"Fare\"], kde=False, label='Survived', bins=100, color='green')\n",
    "sns.distplot(not_survived[\"Fare\"], kde=False, label='Did not survive', bins=100, color='red')\n",
    "plt.legend()"
   ]
  },
  {
   "cell_type": "markdown",
   "metadata": {
    "papermill": {
     "duration": 0.080725,
     "end_time": "2020-11-26T04:02:34.859821",
     "exception": false,
     "start_time": "2020-11-26T04:02:34.779096",
     "status": "completed"
    },
    "tags": []
   },
   "source": [
    "From here, we can see that if you paid less, your relative chances of survival decreased. This is especially so when you paid <10, and between 10 - 20. Your chances of survival increased when you paid more than $50. Let's classify this into equal categories (like age)."
   ]
  },
  {
   "cell_type": "code",
   "execution_count": 31,
   "metadata": {
    "execution": {
     "iopub.execute_input": "2020-11-26T04:02:35.039740Z",
     "iopub.status.busy": "2020-11-26T04:02:35.028934Z",
     "iopub.status.idle": "2020-11-26T04:02:35.044879Z",
     "shell.execute_reply": "2020-11-26T04:02:35.044244Z"
    },
    "papermill": {
     "duration": 0.104747,
     "end_time": "2020-11-26T04:02:35.045011",
     "exception": false,
     "start_time": "2020-11-26T04:02:34.940264",
     "status": "completed"
    },
    "tags": []
   },
   "outputs": [
    {
     "data": {
      "text/plain": [
       "0        (-0.001, 7.775]\n",
       "1      (52.369, 512.329]\n",
       "2         (7.775, 8.662]\n",
       "3      (52.369, 512.329]\n",
       "4         (7.775, 8.662]\n",
       "             ...        \n",
       "886      (8.662, 14.454]\n",
       "887       (26.0, 52.369]\n",
       "888       (14.454, 26.0]\n",
       "889       (26.0, 52.369]\n",
       "890      (-0.001, 7.775]\n",
       "Name: Fare, Length: 891, dtype: category\n",
       "Categories (6, interval[float64]): [(-0.001, 7.775] < (7.775, 8.662] < (8.662, 14.454] < (14.454, 26.0] < (26.0, 52.369] < (52.369, 512.329]]"
      ]
     },
     "execution_count": 31,
     "metadata": {},
     "output_type": "execute_result"
    }
   ],
   "source": [
    "pd.qcut(df_train[\"Fare\"], 6)"
   ]
  },
  {
   "cell_type": "code",
   "execution_count": 32,
   "metadata": {
    "execution": {
     "iopub.execute_input": "2020-11-26T04:02:35.235291Z",
     "iopub.status.busy": "2020-11-26T04:02:35.234171Z",
     "iopub.status.idle": "2020-11-26T04:02:35.237638Z",
     "shell.execute_reply": "2020-11-26T04:02:35.236895Z"
    },
    "papermill": {
     "duration": 0.109908,
     "end_time": "2020-11-26T04:02:35.237764",
     "exception": false,
     "start_time": "2020-11-26T04:02:35.127856",
     "status": "completed"
    },
    "tags": []
   },
   "outputs": [],
   "source": [
    "fare = (df_train[\"Fare\"] < 7.775)\n",
    "fare1 = (df_train[\"Fare\"] >= 7.775) & (df_train[\"Fare\"] < 8.662)\n",
    "fare2 = (df_train[\"Fare\"] >= 8.662) & (df_train[\"Fare\"] < 14.454)\n",
    "fare3 = (df_train[\"Fare\"] >= 14.454) & (df_train[\"Fare\"] < 26)\n",
    "fare4 = (df_train[\"Fare\"] >= 26) & (df_train[\"Fare\"] < 52.369)\n",
    "fare5 = (df_train[\"Fare\"] >= 52.369)\n",
    "\n",
    "df_train[\"Fare\"][fare] = 0\n",
    "df_train[\"Fare\"][fare1] = 1\n",
    "df_train[\"Fare\"][fare2] = 2\n",
    "df_train[\"Fare\"][fare3] = 3\n",
    "df_train[\"Fare\"][fare4] = 4\n",
    "df_train[\"Fare\"][fare5] = 5"
   ]
  },
  {
   "cell_type": "markdown",
   "metadata": {
    "papermill": {
     "duration": 0.085648,
     "end_time": "2020-11-26T04:02:35.405102",
     "exception": false,
     "start_time": "2020-11-26T04:02:35.319454",
     "status": "completed"
    },
    "tags": []
   },
   "source": [
    "Now, let's analyze the port of embarkation."
   ]
  },
  {
   "cell_type": "code",
   "execution_count": 33,
   "metadata": {
    "execution": {
     "iopub.execute_input": "2020-11-26T04:02:35.586710Z",
     "iopub.status.busy": "2020-11-26T04:02:35.577762Z",
     "iopub.status.idle": "2020-11-26T04:02:36.148220Z",
     "shell.execute_reply": "2020-11-26T04:02:36.147390Z"
    },
    "papermill": {
     "duration": 0.661812,
     "end_time": "2020-11-26T04:02:36.148366",
     "exception": false,
     "start_time": "2020-11-26T04:02:35.486554",
     "status": "completed"
    },
    "tags": []
   },
   "outputs": [
    {
     "data": {
      "text/plain": [
       "<seaborn.axisgrid.FacetGrid at 0x7fe0c8a0ce90>"
      ]
     },
     "execution_count": 33,
     "metadata": {},
     "output_type": "execute_result"
    },
    {
     "data": {
      "image/png": "[encoded data removed]",
      "text/plain": [
       "<Figure size 526.25x360 with 1 Axes>"
      ]
     },
     "metadata": {
      "needs_background": "light"
     },
     "output_type": "display_data"
    }
   ],
   "source": [
    "sns.catplot(x='Sex', y='Survived', kind='bar', data=df_train, hue='Embarked', palette='rocket', aspect=1.3)"
   ]
  },
  {
   "cell_type": "markdown",
   "metadata": {
    "papermill": {
     "duration": 0.082518,
     "end_time": "2020-11-26T04:02:36.323641",
     "exception": false,
     "start_time": "2020-11-26T04:02:36.241123",
     "status": "completed"
    },
    "tags": []
   },
   "source": [
    "Survival rate seems to be highest if embarked from C, and uncertain if embarked from S and Q. Since there are only 3 ports, let's convert this to numeric values."
   ]
  },
  {
   "cell_type": "code",
   "execution_count": 34,
   "metadata": {
    "execution": {
     "iopub.execute_input": "2020-11-26T04:02:36.498815Z",
     "iopub.status.busy": "2020-11-26T04:02:36.497851Z",
     "iopub.status.idle": "2020-11-26T04:02:36.500412Z",
     "shell.execute_reply": "2020-11-26T04:02:36.500945Z"
    },
    "papermill": {
     "duration": 0.092807,
     "end_time": "2020-11-26T04:02:36.501126",
     "exception": false,
     "start_time": "2020-11-26T04:02:36.408319",
     "status": "completed"
    },
    "tags": []
   },
   "outputs": [],
   "source": [
    "port = {'S': 1, 'C': 2, 'Q': 3}\n",
    "df_train[\"Embarked\"] = df_train[\"Embarked\"].map(port)"
   ]
  },
  {
   "cell_type": "markdown",
   "metadata": {
    "papermill": {
     "duration": 0.081813,
     "end_time": "2020-11-26T04:02:36.665269",
     "exception": false,
     "start_time": "2020-11-26T04:02:36.583456",
     "status": "completed"
    },
    "tags": []
   },
   "source": [
    "Finally, let's convert Cabin categories to numbers. Since A is nearest to the top, we can assume that passengers in Cabin A have the highest chance of survival, followed by B and then C and so on. We won't analyse this as there is too much missing data to draw conclusions about the overall population of passengers."
   ]
  },
  {
   "cell_type": "code",
   "execution_count": 35,
   "metadata": {
    "execution": {
     "iopub.execute_input": "2020-11-26T04:02:36.836865Z",
     "iopub.status.busy": "2020-11-26T04:02:36.835807Z",
     "iopub.status.idle": "2020-11-26T04:02:36.840194Z",
     "shell.execute_reply": "2020-11-26T04:02:36.839473Z"
    },
    "papermill": {
     "duration": 0.093032,
     "end_time": "2020-11-26T04:02:36.840326",
     "exception": false,
     "start_time": "2020-11-26T04:02:36.747294",
     "status": "completed"
    },
    "tags": []
   },
   "outputs": [
    {
     "data": {
      "text/plain": [
       "array(['Z', 'C', 'E', 'G', 'D', 'A', 'B', 'F', 'T'], dtype=object)"
      ]
     },
     "execution_count": 35,
     "metadata": {},
     "output_type": "execute_result"
    }
   ],
   "source": [
    "df_train[\"Cabin\"].unique()"
   ]
  },
  {
   "cell_type": "code",
   "execution_count": 36,
   "metadata": {
    "execution": {
     "iopub.execute_input": "2020-11-26T04:02:37.018771Z",
     "iopub.status.busy": "2020-11-26T04:02:37.017691Z",
     "iopub.status.idle": "2020-11-26T04:02:37.021242Z",
     "shell.execute_reply": "2020-11-26T04:02:37.020513Z"
    },
    "papermill": {
     "duration": 0.096566,
     "end_time": "2020-11-26T04:02:37.021365",
     "exception": false,
     "start_time": "2020-11-26T04:02:36.924799",
     "status": "completed"
    },
    "tags": []
   },
   "outputs": [],
   "source": [
    "cabin = {\"Z\": 8, \"T\": 7, \"G\": 6, \"F\": 5, \"E\": 4, \"D\": 3, \"C\": 2, \"B\": 1, \"A\": 0}\n",
    "df_train[\"Cabin\"] = df_train[\"Cabin\"].map(cabin)"
   ]
  },
  {
   "cell_type": "markdown",
   "metadata": {
    "papermill": {
     "duration": 0.083404,
     "end_time": "2020-11-26T04:02:37.189081",
     "exception": false,
     "start_time": "2020-11-26T04:02:37.105677",
     "status": "completed"
    },
    "tags": []
   },
   "source": [
    "Let's drop all irrelevant columns and prep our data for model building."
   ]
  },
  {
   "cell_type": "code",
   "execution_count": 37,
   "metadata": {
    "execution": {
     "iopub.execute_input": "2020-11-26T04:02:37.375760Z",
     "iopub.status.busy": "2020-11-26T04:02:37.374571Z",
     "iopub.status.idle": "2020-11-26T04:02:37.381964Z",
     "shell.execute_reply": "2020-11-26T04:02:37.382924Z"
    },
    "papermill": {
     "duration": 0.111406,
     "end_time": "2020-11-26T04:02:37.383190",
     "exception": false,
     "start_time": "2020-11-26T04:02:37.271784",
     "status": "completed"
    },
    "tags": []
   },
   "outputs": [
    {
     "data": {
      "text/html": [
       "<div>\n",
       "<style scoped>\n",
       "    .dataframe tbody tr th:only-of-type {\n",
       "        vertical-align: middle;\n",
       "    }\n",
       "\n",
       "    .dataframe tbody tr th {\n",
       "        vertical-align: top;\n",
       "    }\n",
       "\n",
       "    .dataframe thead th {\n",
       "        text-align: right;\n",
       "    }\n",
       "</style>\n",
       "<table border=\"1\" class=\"dataframe\">\n",
       "  <thead>\n",
       "    <tr style=\"text-align: right;\">\n",
       "      <th></th>\n",
       "      <th>Survived</th>\n",
       "      <th>Pclass</th>\n",
       "      <th>Sex</th>\n",
       "      <th>Age</th>\n",
       "      <th>SibSp</th>\n",
       "      <th>Parch</th>\n",
       "      <th>Fare</th>\n",
       "      <th>Cabin</th>\n",
       "      <th>Embarked</th>\n",
       "      <th>Title</th>\n",
       "      <th>Family</th>\n",
       "      <th>Fam_Cat</th>\n",
       "    </tr>\n",
       "  </thead>\n",
       "  <tbody>\n",
       "    <tr>\n",
       "      <th>0</th>\n",
       "      <td>0</td>\n",
       "      <td>3</td>\n",
       "      <td>0</td>\n",
       "      <td>2.0</td>\n",
       "      <td>1</td>\n",
       "      <td>0</td>\n",
       "      <td>0.0</td>\n",
       "      <td>8</td>\n",
       "      <td>1</td>\n",
       "      <td>Mister</td>\n",
       "      <td>1</td>\n",
       "      <td>1</td>\n",
       "    </tr>\n",
       "    <tr>\n",
       "      <th>1</th>\n",
       "      <td>1</td>\n",
       "      <td>1</td>\n",
       "      <td>1</td>\n",
       "      <td>4.0</td>\n",
       "      <td>1</td>\n",
       "      <td>0</td>\n",
       "      <td>5.0</td>\n",
       "      <td>2</td>\n",
       "      <td>2</td>\n",
       "      <td>Missus</td>\n",
       "      <td>1</td>\n",
       "      <td>1</td>\n",
       "    </tr>\n",
       "    <tr>\n",
       "      <th>2</th>\n",
       "      <td>1</td>\n",
       "      <td>3</td>\n",
       "      <td>1</td>\n",
       "      <td>2.0</td>\n",
       "      <td>0</td>\n",
       "      <td>0</td>\n",
       "      <td>1.0</td>\n",
       "      <td>8</td>\n",
       "      <td>1</td>\n",
       "      <td>Miss</td>\n",
       "      <td>0</td>\n",
       "      <td>0</td>\n",
       "    </tr>\n",
       "    <tr>\n",
       "      <th>3</th>\n",
       "      <td>1</td>\n",
       "      <td>1</td>\n",
       "      <td>1</td>\n",
       "      <td>4.0</td>\n",
       "      <td>1</td>\n",
       "      <td>0</td>\n",
       "      <td>5.0</td>\n",
       "      <td>2</td>\n",
       "      <td>1</td>\n",
       "      <td>Missus</td>\n",
       "      <td>1</td>\n",
       "      <td>1</td>\n",
       "    </tr>\n",
       "    <tr>\n",
       "      <th>4</th>\n",
       "      <td>0</td>\n",
       "      <td>3</td>\n",
       "      <td>0</td>\n",
       "      <td>4.0</td>\n",
       "      <td>0</td>\n",
       "      <td>0</td>\n",
       "      <td>1.0</td>\n",
       "      <td>8</td>\n",
       "      <td>1</td>\n",
       "      <td>Mister</td>\n",
       "      <td>0</td>\n",
       "      <td>0</td>\n",
       "    </tr>\n",
       "  </tbody>\n",
       "</table>\n",
       "</div>"
      ],
      "text/plain": [
       "   Survived  Pclass  Sex  Age  SibSp  Parch  Fare  Cabin  Embarked   Title  \\\n",
       "0         0       3    0  2.0      1      0   0.0      8         1  Mister   \n",
       "1         1       1    1  4.0      1      0   5.0      2         2  Missus   \n",
       "2         1       3    1  2.0      0      0   1.0      8         1    Miss   \n",
       "3         1       1    1  4.0      1      0   5.0      2         1  Missus   \n",
       "4         0       3    0  4.0      0      0   1.0      8         1  Mister   \n",
       "\n",
       "   Family  Fam_Cat  \n",
       "0       1        1  \n",
       "1       1        1  \n",
       "2       0        0  \n",
       "3       1        1  \n",
       "4       0        0  "
      ]
     },
     "execution_count": 37,
     "metadata": {},
     "output_type": "execute_result"
    }
   ],
   "source": [
    "df_train.head()"
   ]
  },
  {
   "cell_type": "code",
   "execution_count": 38,
   "metadata": {
    "execution": {
     "iopub.execute_input": "2020-11-26T04:02:37.601147Z",
     "iopub.status.busy": "2020-11-26T04:02:37.600157Z",
     "iopub.status.idle": "2020-11-26T04:02:37.604667Z",
     "shell.execute_reply": "2020-11-26T04:02:37.605379Z"
    },
    "papermill": {
     "duration": 0.118456,
     "end_time": "2020-11-26T04:02:37.605534",
     "exception": false,
     "start_time": "2020-11-26T04:02:37.487078",
     "status": "completed"
    },
    "tags": []
   },
   "outputs": [
    {
     "data": {
      "text/html": [
       "<div>\n",
       "<style scoped>\n",
       "    .dataframe tbody tr th:only-of-type {\n",
       "        vertical-align: middle;\n",
       "    }\n",
       "\n",
       "    .dataframe tbody tr th {\n",
       "        vertical-align: top;\n",
       "    }\n",
       "\n",
       "    .dataframe thead th {\n",
       "        text-align: right;\n",
       "    }\n",
       "</style>\n",
       "<table border=\"1\" class=\"dataframe\">\n",
       "  <thead>\n",
       "    <tr style=\"text-align: right;\">\n",
       "      <th></th>\n",
       "      <th>Survived</th>\n",
       "      <th>Pclass</th>\n",
       "      <th>Sex</th>\n",
       "      <th>Age</th>\n",
       "      <th>Fare</th>\n",
       "      <th>Cabin</th>\n",
       "      <th>Embarked</th>\n",
       "      <th>Title</th>\n",
       "      <th>Fam_Cat</th>\n",
       "    </tr>\n",
       "  </thead>\n",
       "  <tbody>\n",
       "    <tr>\n",
       "      <th>0</th>\n",
       "      <td>0</td>\n",
       "      <td>3</td>\n",
       "      <td>0</td>\n",
       "      <td>2.0</td>\n",
       "      <td>0.0</td>\n",
       "      <td>8</td>\n",
       "      <td>1</td>\n",
       "      <td>Mister</td>\n",
       "      <td>1</td>\n",
       "    </tr>\n",
       "    <tr>\n",
       "      <th>1</th>\n",
       "      <td>1</td>\n",
       "      <td>1</td>\n",
       "      <td>1</td>\n",
       "      <td>4.0</td>\n",
       "      <td>5.0</td>\n",
       "      <td>2</td>\n",
       "      <td>2</td>\n",
       "      <td>Missus</td>\n",
       "      <td>1</td>\n",
       "    </tr>\n",
       "    <tr>\n",
       "      <th>2</th>\n",
       "      <td>1</td>\n",
       "      <td>3</td>\n",
       "      <td>1</td>\n",
       "      <td>2.0</td>\n",
       "      <td>1.0</td>\n",
       "      <td>8</td>\n",
       "      <td>1</td>\n",
       "      <td>Miss</td>\n",
       "      <td>0</td>\n",
       "    </tr>\n",
       "    <tr>\n",
       "      <th>3</th>\n",
       "      <td>1</td>\n",
       "      <td>1</td>\n",
       "      <td>1</td>\n",
       "      <td>4.0</td>\n",
       "      <td>5.0</td>\n",
       "      <td>2</td>\n",
       "      <td>1</td>\n",
       "      <td>Missus</td>\n",
       "      <td>1</td>\n",
       "    </tr>\n",
       "    <tr>\n",
       "      <th>4</th>\n",
       "      <td>0</td>\n",
       "      <td>3</td>\n",
       "      <td>0</td>\n",
       "      <td>4.0</td>\n",
       "      <td>1.0</td>\n",
       "      <td>8</td>\n",
       "      <td>1</td>\n",
       "      <td>Mister</td>\n",
       "      <td>0</td>\n",
       "    </tr>\n",
       "  </tbody>\n",
       "</table>\n",
       "</div>"
      ],
      "text/plain": [
       "   Survived  Pclass  Sex  Age  Fare  Cabin  Embarked   Title  Fam_Cat\n",
       "0         0       3    0  2.0   0.0      8         1  Mister        1\n",
       "1         1       1    1  4.0   5.0      2         2  Missus        1\n",
       "2         1       3    1  2.0   1.0      8         1    Miss        0\n",
       "3         1       1    1  4.0   5.0      2         1  Missus        1\n",
       "4         0       3    0  4.0   1.0      8         1  Mister        0"
      ]
     },
     "execution_count": 38,
     "metadata": {},
     "output_type": "execute_result"
    }
   ],
   "source": [
    "df = df_train.drop([\"SibSp\", \"Parch\", \"Family\"], axis=1)\n",
    "df.head()"
   ]
  },
  {
   "cell_type": "markdown",
   "metadata": {
    "papermill": {
     "duration": 0.084462,
     "end_time": "2020-11-26T04:02:37.774485",
     "exception": false,
     "start_time": "2020-11-26T04:02:37.690023",
     "status": "completed"
    },
    "tags": []
   },
   "source": [
    "Let's map our \"Title\" category and create a few final features for Pclass, Sex, Age and Fare as these seem to be the most important features."
   ]
  },
  {
   "cell_type": "code",
   "execution_count": 39,
   "metadata": {
    "execution": {
     "iopub.execute_input": "2020-11-26T04:02:37.969139Z",
     "iopub.status.busy": "2020-11-26T04:02:37.968289Z",
     "iopub.status.idle": "2020-11-26T04:02:37.971366Z",
     "shell.execute_reply": "2020-11-26T04:02:37.971903Z"
    },
    "papermill": {
     "duration": 0.110891,
     "end_time": "2020-11-26T04:02:37.972080",
     "exception": false,
     "start_time": "2020-11-26T04:02:37.861189",
     "status": "completed"
    },
    "tags": []
   },
   "outputs": [],
   "source": [
    "title = {\"Master\": 0, \"Miss\": 1, \"Mister\": 3, \"Missus\": 4, \"Others\": 5}\n",
    "df[\"Title\"] = df[\"Title\"].map(title)\n",
    "\n",
    "\n",
    "df[\"Age\"] = df[\"Age\"].astype(int)\n",
    "df[\"Fare\"] = df[\"Fare\"].astype(int)\n",
    "\n",
    "df[\"Pclass_Sex\"] = df[\"Pclass\"]*df[\"Sex\"]\n",
    "df[\"Pclass_Age\"] = df[\"Pclass\"]*df[\"Age\"]\n",
    "df[\"Pclass_Fare\"] = df[\"Pclass\"]*df[\"Fare\"]\n",
    "df[\"Sex_Age\"] = df[\"Sex\"]*df[\"Age\"]\n",
    "df[\"Sex_Fare\"] = df[\"Sex\"]*df[\"Fare\"]\n",
    "df[\"Age_Fare\"] = df[\"Age\"]*df[\"Fare\"]"
   ]
  },
  {
   "cell_type": "code",
   "execution_count": 40,
   "metadata": {
    "execution": {
     "iopub.execute_input": "2020-11-26T04:02:38.161127Z",
     "iopub.status.busy": "2020-11-26T04:02:38.149485Z",
     "iopub.status.idle": "2020-11-26T04:02:38.166695Z",
     "shell.execute_reply": "2020-11-26T04:02:38.166076Z"
    },
    "papermill": {
     "duration": 0.109954,
     "end_time": "2020-11-26T04:02:38.166825",
     "exception": false,
     "start_time": "2020-11-26T04:02:38.056871",
     "status": "completed"
    },
    "tags": []
   },
   "outputs": [
    {
     "data": {
      "text/html": [
       "<div>\n",
       "<style scoped>\n",
       "    .dataframe tbody tr th:only-of-type {\n",
       "        vertical-align: middle;\n",
       "    }\n",
       "\n",
       "    .dataframe tbody tr th {\n",
       "        vertical-align: top;\n",
       "    }\n",
       "\n",
       "    .dataframe thead th {\n",
       "        text-align: right;\n",
       "    }\n",
       "</style>\n",
       "<table border=\"1\" class=\"dataframe\">\n",
       "  <thead>\n",
       "    <tr style=\"text-align: right;\">\n",
       "      <th></th>\n",
       "      <th>Survived</th>\n",
       "      <th>Pclass</th>\n",
       "      <th>Sex</th>\n",
       "      <th>Age</th>\n",
       "      <th>Fare</th>\n",
       "      <th>Cabin</th>\n",
       "      <th>Embarked</th>\n",
       "      <th>Title</th>\n",
       "      <th>Fam_Cat</th>\n",
       "      <th>Pclass_Sex</th>\n",
       "      <th>Pclass_Age</th>\n",
       "      <th>Pclass_Fare</th>\n",
       "      <th>Sex_Age</th>\n",
       "      <th>Sex_Fare</th>\n",
       "      <th>Age_Fare</th>\n",
       "    </tr>\n",
       "  </thead>\n",
       "  <tbody>\n",
       "    <tr>\n",
       "      <th>0</th>\n",
       "      <td>0</td>\n",
       "      <td>3</td>\n",
       "      <td>0</td>\n",
       "      <td>2</td>\n",
       "      <td>0</td>\n",
       "      <td>8</td>\n",
       "      <td>1</td>\n",
       "      <td>3</td>\n",
       "      <td>1</td>\n",
       "      <td>0</td>\n",
       "      <td>6</td>\n",
       "      <td>0</td>\n",
       "      <td>0</td>\n",
       "      <td>0</td>\n",
       "      <td>0</td>\n",
       "    </tr>\n",
       "    <tr>\n",
       "      <th>1</th>\n",
       "      <td>1</td>\n",
       "      <td>1</td>\n",
       "      <td>1</td>\n",
       "      <td>4</td>\n",
       "      <td>5</td>\n",
       "      <td>2</td>\n",
       "      <td>2</td>\n",
       "      <td>4</td>\n",
       "      <td>1</td>\n",
       "      <td>1</td>\n",
       "      <td>4</td>\n",
       "      <td>5</td>\n",
       "      <td>4</td>\n",
       "      <td>5</td>\n",
       "      <td>20</td>\n",
       "    </tr>\n",
       "    <tr>\n",
       "      <th>2</th>\n",
       "      <td>1</td>\n",
       "      <td>3</td>\n",
       "      <td>1</td>\n",
       "      <td>2</td>\n",
       "      <td>1</td>\n",
       "      <td>8</td>\n",
       "      <td>1</td>\n",
       "      <td>1</td>\n",
       "      <td>0</td>\n",
       "      <td>3</td>\n",
       "      <td>6</td>\n",
       "      <td>3</td>\n",
       "      <td>2</td>\n",
       "      <td>1</td>\n",
       "      <td>2</td>\n",
       "    </tr>\n",
       "    <tr>\n",
       "      <th>3</th>\n",
       "      <td>1</td>\n",
       "      <td>1</td>\n",
       "      <td>1</td>\n",
       "      <td>4</td>\n",
       "      <td>5</td>\n",
       "      <td>2</td>\n",
       "      <td>1</td>\n",
       "      <td>4</td>\n",
       "      <td>1</td>\n",
       "      <td>1</td>\n",
       "      <td>4</td>\n",
       "      <td>5</td>\n",
       "      <td>4</td>\n",
       "      <td>5</td>\n",
       "      <td>20</td>\n",
       "    </tr>\n",
       "    <tr>\n",
       "      <th>4</th>\n",
       "      <td>0</td>\n",
       "      <td>3</td>\n",
       "      <td>0</td>\n",
       "      <td>4</td>\n",
       "      <td>1</td>\n",
       "      <td>8</td>\n",
       "      <td>1</td>\n",
       "      <td>3</td>\n",
       "      <td>0</td>\n",
       "      <td>0</td>\n",
       "      <td>12</td>\n",
       "      <td>3</td>\n",
       "      <td>0</td>\n",
       "      <td>0</td>\n",
       "      <td>4</td>\n",
       "    </tr>\n",
       "  </tbody>\n",
       "</table>\n",
       "</div>"
      ],
      "text/plain": [
       "   Survived  Pclass  Sex  Age  Fare  Cabin  Embarked  Title  Fam_Cat  \\\n",
       "0         0       3    0    2     0      8         1      3        1   \n",
       "1         1       1    1    4     5      2         2      4        1   \n",
       "2         1       3    1    2     1      8         1      1        0   \n",
       "3         1       1    1    4     5      2         1      4        1   \n",
       "4         0       3    0    4     1      8         1      3        0   \n",
       "\n",
       "   Pclass_Sex  Pclass_Age  Pclass_Fare  Sex_Age  Sex_Fare  Age_Fare  \n",
       "0           0           6            0        0         0         0  \n",
       "1           1           4            5        4         5        20  \n",
       "2           3           6            3        2         1         2  \n",
       "3           1           4            5        4         5        20  \n",
       "4           0          12            3        0         0         4  "
      ]
     },
     "execution_count": 40,
     "metadata": {},
     "output_type": "execute_result"
    }
   ],
   "source": [
    "df.head()"
   ]
  },
  {
   "cell_type": "markdown",
   "metadata": {
    "papermill": {
     "duration": 0.087444,
     "end_time": "2020-11-26T04:02:38.342480",
     "exception": false,
     "start_time": "2020-11-26T04:02:38.255036",
     "status": "completed"
    },
    "tags": []
   },
   "source": [
    "# Model Building and Training"
   ]
  },
  {
   "cell_type": "code",
   "execution_count": 41,
   "metadata": {
    "execution": {
     "iopub.execute_input": "2020-11-26T04:02:38.531159Z",
     "iopub.status.busy": "2020-11-26T04:02:38.529930Z",
     "iopub.status.idle": "2020-11-26T04:02:38.533640Z",
     "shell.execute_reply": "2020-11-26T04:02:38.532984Z"
    },
    "papermill": {
     "duration": 0.098082,
     "end_time": "2020-11-26T04:02:38.533772",
     "exception": false,
     "start_time": "2020-11-26T04:02:38.435690",
     "status": "completed"
    },
    "tags": []
   },
   "outputs": [],
   "source": [
    "X = df.iloc[:, 1:].values\n",
    "y = df.iloc[:, 0].values"
   ]
  },
  {
   "cell_type": "code",
   "execution_count": 42,
   "metadata": {
    "execution": {
     "iopub.execute_input": "2020-11-26T04:02:38.712887Z",
     "iopub.status.busy": "2020-11-26T04:02:38.711941Z",
     "iopub.status.idle": "2020-11-26T04:02:38.847499Z",
     "shell.execute_reply": "2020-11-26T04:02:38.846841Z"
    },
    "papermill": {
     "duration": 0.226912,
     "end_time": "2020-11-26T04:02:38.847640",
     "exception": false,
     "start_time": "2020-11-26T04:02:38.620728",
     "status": "completed"
    },
    "tags": []
   },
   "outputs": [],
   "source": [
    "from sklearn.model_selection import train_test_split\n",
    "X_train, X_test, y_train, y_test = train_test_split(X, y, test_size = 0.2)"
   ]
  },
  {
   "cell_type": "code",
   "execution_count": 43,
   "metadata": {
    "execution": {
     "iopub.execute_input": "2020-11-26T04:02:39.027957Z",
     "iopub.status.busy": "2020-11-26T04:02:39.027151Z",
     "iopub.status.idle": "2020-11-26T04:02:39.194442Z",
     "shell.execute_reply": "2020-11-26T04:02:39.193564Z"
    },
    "papermill": {
     "duration": 0.260182,
     "end_time": "2020-11-26T04:02:39.194612",
     "exception": false,
     "start_time": "2020-11-26T04:02:38.934430",
     "status": "completed"
    },
    "tags": []
   },
   "outputs": [],
   "source": [
    "from sklearn.decomposition import PCA\n",
    "pca = PCA(n_components = 0.95)\n",
    "X_train = pca.fit_transform(X_train)\n",
    "X_test = pca.transform(X_test)"
   ]
  },
  {
   "cell_type": "code",
   "execution_count": 44,
   "metadata": {
    "execution": {
     "iopub.execute_input": "2020-11-26T04:02:39.388553Z",
     "iopub.status.busy": "2020-11-26T04:02:39.387484Z",
     "iopub.status.idle": "2020-11-26T04:02:40.472800Z",
     "shell.execute_reply": "2020-11-26T04:02:40.473485Z"
    },
    "papermill": {
     "duration": 1.181573,
     "end_time": "2020-11-26T04:02:40.473648",
     "exception": false,
     "start_time": "2020-11-26T04:02:39.292075",
     "status": "completed"
    },
    "tags": []
   },
   "outputs": [
    {
     "data": {
      "text/plain": [
       "XGBClassifier(base_score=0.5, booster='gbtree', colsample_bylevel=1,\n",
       "              colsample_bynode=1, colsample_bytree=1, gamma=0, gpu_id=-1,\n",
       "              importance_type='gain', interaction_constraints='',\n",
       "              learning_rate=0.300000012, max_delta_step=0, max_depth=6,\n",
       "              min_child_weight=1, missing=nan, monotone_constraints='()',\n",
       "              n_estimators=100, n_jobs=0, num_parallel_tree=1, random_state=0,\n",
       "              reg_alpha=0, reg_lambda=1, scale_pos_weight=1, subsample=1,\n",
       "              tree_method='exact', validate_parameters=1, verbosity=None)"
      ]
     },
     "execution_count": 44,
     "metadata": {},
     "output_type": "execute_result"
    }
   ],
   "source": [
    "from xgboost import XGBClassifier\n",
    "classifier = XGBClassifier()\n",
    "classifier.fit(X_train, y_train)"
   ]
  },
  {
   "cell_type": "code",
   "execution_count": 45,
   "metadata": {
    "execution": {
     "iopub.execute_input": "2020-11-26T04:02:40.682598Z",
     "iopub.status.busy": "2020-11-26T04:02:40.681745Z",
     "iopub.status.idle": "2020-11-26T04:02:40.693815Z",
     "shell.execute_reply": "2020-11-26T04:02:40.694489Z"
    },
    "papermill": {
     "duration": 0.118847,
     "end_time": "2020-11-26T04:02:40.694666",
     "exception": false,
     "start_time": "2020-11-26T04:02:40.575819",
     "status": "completed"
    },
    "tags": []
   },
   "outputs": [
    {
     "name": "stdout",
     "output_type": "stream",
     "text": [
      "[[101  12]\n",
      " [ 19  47]]\n"
     ]
    },
    {
     "data": {
      "text/plain": [
       "0.8268156424581006"
      ]
     },
     "execution_count": 45,
     "metadata": {},
     "output_type": "execute_result"
    }
   ],
   "source": [
    "from sklearn.metrics import confusion_matrix, accuracy_score\n",
    "y_pred = classifier.predict(X_test)\n",
    "cm = confusion_matrix(y_test, y_pred)\n",
    "print(cm)\n",
    "accuracy_score(y_test, y_pred)"
   ]
  },
  {
   "cell_type": "code",
   "execution_count": 46,
   "metadata": {
    "execution": {
     "iopub.execute_input": "2020-11-26T04:02:40.911321Z",
     "iopub.status.busy": "2020-11-26T04:02:40.910499Z",
     "iopub.status.idle": "2020-11-26T04:02:41.169438Z",
     "shell.execute_reply": "2020-11-26T04:02:41.170550Z"
    },
    "papermill": {
     "duration": 0.36985,
     "end_time": "2020-11-26T04:02:41.170759",
     "exception": false,
     "start_time": "2020-11-26T04:02:40.800909",
     "status": "completed"
    },
    "tags": []
   },
   "outputs": [
    {
     "name": "stdout",
     "output_type": "stream",
     "text": [
      "Accuracy: 80.90 %\n",
      "Standard Deviation: 1.44 %\n"
     ]
    }
   ],
   "source": [
    "from sklearn.model_selection import cross_val_score\n",
    "accuracies = cross_val_score(estimator = classifier, X = X_train, y = y_train, cv = 5)\n",
    "print(\"Accuracy: {:.2f} %\".format(accuracies.mean()*100))\n",
    "print(\"Standard Deviation: {:.2f} %\".format(accuracies.std()*100))"
   ]
  },
  {
   "cell_type": "code",
   "execution_count": 47,
   "metadata": {
    "execution": {
     "iopub.execute_input": "2020-11-26T04:02:41.393472Z",
     "iopub.status.busy": "2020-11-26T04:02:41.384857Z",
     "iopub.status.idle": "2020-11-26T04:02:41.644366Z",
     "shell.execute_reply": "2020-11-26T04:02:41.645127Z"
    },
    "papermill": {
     "duration": 0.368366,
     "end_time": "2020-11-26T04:02:41.645285",
     "exception": false,
     "start_time": "2020-11-26T04:02:41.276919",
     "status": "completed"
    },
    "tags": []
   },
   "outputs": [
    {
     "data": {
      "text/plain": [
       "<matplotlib.axes._subplots.AxesSubplot at 0x7fe0bc1d21d0>"
      ]
     },
     "execution_count": 47,
     "metadata": {},
     "output_type": "execute_result"
    },
    {
     "data": {
      "image/png": "[encoded data removed]",
      "text/plain": [
       "<Figure size 1440x720 with 1 Axes>"
      ]
     },
     "metadata": {
      "needs_background": "light"
     },
     "output_type": "display_data"
    }
   ],
   "source": [
    "from xgboost import plot_importance\n",
    "fig, ax = plt.subplots(figsize=(20, 10))\n",
    "plot_importance(classifier, ax=ax)"
   ]
  },
  {
   "cell_type": "markdown",
   "metadata": {
    "papermill": {
     "duration": 0.090698,
     "end_time": "2020-11-26T04:02:41.826241",
     "exception": false,
     "start_time": "2020-11-26T04:02:41.735543",
     "status": "completed"
    },
    "tags": []
   },
   "source": [
    "Results seem decent, but definitely can be tweaked. Let's try a Grid Search with different parameter values."
   ]
  },
  {
   "cell_type": "code",
   "execution_count": 48,
   "metadata": {
    "execution": {
     "iopub.execute_input": "2020-11-26T04:02:42.017060Z",
     "iopub.status.busy": "2020-11-26T04:02:42.016158Z",
     "iopub.status.idle": "2020-11-26T04:02:42.019601Z",
     "shell.execute_reply": "2020-11-26T04:02:42.018966Z"
    },
    "papermill": {
     "duration": 0.102712,
     "end_time": "2020-11-26T04:02:42.019741",
     "exception": false,
     "start_time": "2020-11-26T04:02:41.917029",
     "status": "completed"
    },
    "tags": []
   },
   "outputs": [],
   "source": [
    "params = {\n",
    "        'min_child_weight': [1, 2, 3],\n",
    "        'learning_rate': [0.2, 0.3, 0.02, 0.03],\n",
    "        'subsample': [0.6, 0.8, 1.0],\n",
    "        'colsample_bytree': [0.6, 0.8, 1.0],\n",
    "        'max_depth': [4, 5, 6],\n",
    "        'n_estimators': [100, 300, 500, 700]\n",
    "        }"
   ]
  },
  {
   "cell_type": "code",
   "execution_count": 49,
   "metadata": {
    "execution": {
     "iopub.execute_input": "2020-11-26T04:02:42.210578Z",
     "iopub.status.busy": "2020-11-26T04:02:42.209759Z",
     "iopub.status.idle": "2020-11-26T04:09:01.926339Z",
     "shell.execute_reply": "2020-11-26T04:09:01.925531Z"
    },
    "papermill": {
     "duration": 379.81553,
     "end_time": "2020-11-26T04:09:01.926507",
     "exception": false,
     "start_time": "2020-11-26T04:02:42.110977",
     "status": "completed"
    },
    "tags": []
   },
   "outputs": [
    {
     "name": "stdout",
     "output_type": "stream",
     "text": [
      "Fitting 3 folds for each of 1296 candidates, totalling 3888 fits\n"
     ]
    },
    {
     "name": "stderr",
     "output_type": "stream",
     "text": [
      "[Parallel(n_jobs=4)]: Using backend LokyBackend with 4 concurrent workers.\n",
      "[Parallel(n_jobs=4)]: Done  24 tasks      | elapsed:    3.7s\n",
      "[Parallel(n_jobs=4)]: Done 120 tasks      | elapsed:   10.8s\n",
      "[Parallel(n_jobs=4)]: Done 280 tasks      | elapsed:   24.7s\n",
      "[Parallel(n_jobs=4)]: Done 504 tasks      | elapsed:   42.6s\n",
      "[Parallel(n_jobs=4)]: Done 792 tasks      | elapsed:  1.1min\n",
      "[Parallel(n_jobs=4)]: Done 1144 tasks      | elapsed:  1.6min\n",
      "[Parallel(n_jobs=4)]: Done 1560 tasks      | elapsed:  2.2min\n",
      "[Parallel(n_jobs=4)]: Done 2040 tasks      | elapsed:  3.0min\n",
      "[Parallel(n_jobs=4)]: Done 2584 tasks      | elapsed:  3.9min\n",
      "[Parallel(n_jobs=4)]: Done 3192 tasks      | elapsed:  5.1min\n",
      "[Parallel(n_jobs=4)]: Done 3864 tasks      | elapsed:  6.3min\n"
     ]
    },
    {
     "name": "stdout",
     "output_type": "stream",
     "text": [
      "\n",
      " Best estimator:\n",
      "XGBClassifier(base_score=0.5, booster='gbtree', colsample_bylevel=1,\n",
      "              colsample_bynode=1, colsample_bytree=0.6, gamma=0, gpu_id=-1,\n",
      "              importance_type='gain', interaction_constraints='',\n",
      "              learning_rate=0.03, max_delta_step=0, max_depth=4,\n",
      "              min_child_weight=1, missing=nan, monotone_constraints='()',\n",
      "              n_estimators=100, n_jobs=0, num_parallel_tree=1, random_state=0,\n",
      "              reg_alpha=0, reg_lambda=1, scale_pos_weight=1, subsample=1.0,\n",
      "              tree_method='exact', validate_parameters=1, verbosity=None)\n",
      "\n",
      " Best score:\n",
      "0.840628507295174\n",
      "\n",
      " Best parameters:\n",
      "{'colsample_bytree': 0.6, 'learning_rate': 0.03, 'max_depth': 4, 'min_child_weight': 1, 'n_estimators': 100, 'subsample': 1.0}\n"
     ]
    },
    {
     "name": "stderr",
     "output_type": "stream",
     "text": [
      "[Parallel(n_jobs=4)]: Done 3888 out of 3888 | elapsed:  6.3min finished\n"
     ]
    }
   ],
   "source": [
    "from sklearn.model_selection import GridSearchCV\n",
    "from sklearn.metrics import accuracy_score\n",
    "grid = GridSearchCV(estimator=classifier, param_grid=params, scoring='accuracy', n_jobs=4, cv=3, verbose=3)\n",
    "grid.fit(X, y)\n",
    "print('\\n Best estimator:')\n",
    "print(grid.best_estimator_)\n",
    "print('\\n Best score:')\n",
    "print(grid.best_score_)\n",
    "print('\\n Best parameters:')\n",
    "print(grid.best_params_)"
   ]
  },
  {
   "cell_type": "markdown",
   "metadata": {
    "papermill": {
     "duration": 0.106617,
     "end_time": "2020-11-26T04:09:02.152778",
     "exception": false,
     "start_time": "2020-11-26T04:09:02.046161",
     "status": "completed"
    },
    "tags": []
   },
   "source": [
    "# Model Testing and Predictions"
   ]
  },
  {
   "cell_type": "code",
   "execution_count": 50,
   "metadata": {
    "execution": {
     "iopub.execute_input": "2020-11-26T04:09:02.356504Z",
     "iopub.status.busy": "2020-11-26T04:09:02.355650Z",
     "iopub.status.idle": "2020-11-26T04:09:02.381987Z",
     "shell.execute_reply": "2020-11-26T04:09:02.382671Z"
    },
    "papermill": {
     "duration": 0.133361,
     "end_time": "2020-11-26T04:09:02.382840",
     "exception": false,
     "start_time": "2020-11-26T04:09:02.249479",
     "status": "completed"
    },
    "tags": []
   },
   "outputs": [
    {
     "data": {
      "text/html": [
       "<div>\n",
       "<style scoped>\n",
       "    .dataframe tbody tr th:only-of-type {\n",
       "        vertical-align: middle;\n",
       "    }\n",
       "\n",
       "    .dataframe tbody tr th {\n",
       "        vertical-align: top;\n",
       "    }\n",
       "\n",
       "    .dataframe thead th {\n",
       "        text-align: right;\n",
       "    }\n",
       "</style>\n",
       "<table border=\"1\" class=\"dataframe\">\n",
       "  <thead>\n",
       "    <tr style=\"text-align: right;\">\n",
       "      <th></th>\n",
       "      <th>PassengerId</th>\n",
       "      <th>Pclass</th>\n",
       "      <th>Name</th>\n",
       "      <th>Sex</th>\n",
       "      <th>Age</th>\n",
       "      <th>SibSp</th>\n",
       "      <th>Parch</th>\n",
       "      <th>Ticket</th>\n",
       "      <th>Fare</th>\n",
       "      <th>Cabin</th>\n",
       "      <th>Embarked</th>\n",
       "    </tr>\n",
       "  </thead>\n",
       "  <tbody>\n",
       "    <tr>\n",
       "      <th>0</th>\n",
       "      <td>892</td>\n",
       "      <td>3</td>\n",
       "      <td>Kelly, Mr. James</td>\n",
       "      <td>male</td>\n",
       "      <td>34.5</td>\n",
       "      <td>0</td>\n",
       "      <td>0</td>\n",
       "      <td>330911</td>\n",
       "      <td>7.8292</td>\n",
       "      <td>NaN</td>\n",
       "      <td>Q</td>\n",
       "    </tr>\n",
       "    <tr>\n",
       "      <th>1</th>\n",
       "      <td>893</td>\n",
       "      <td>3</td>\n",
       "      <td>Wilkes, Mrs. James (Ellen Needs)</td>\n",
       "      <td>female</td>\n",
       "      <td>47.0</td>\n",
       "      <td>1</td>\n",
       "      <td>0</td>\n",
       "      <td>363272</td>\n",
       "      <td>7.0000</td>\n",
       "      <td>NaN</td>\n",
       "      <td>S</td>\n",
       "    </tr>\n",
       "    <tr>\n",
       "      <th>2</th>\n",
       "      <td>894</td>\n",
       "      <td>2</td>\n",
       "      <td>Myles, Mr. Thomas Francis</td>\n",
       "      <td>male</td>\n",
       "      <td>62.0</td>\n",
       "      <td>0</td>\n",
       "      <td>0</td>\n",
       "      <td>240276</td>\n",
       "      <td>9.6875</td>\n",
       "      <td>NaN</td>\n",
       "      <td>Q</td>\n",
       "    </tr>\n",
       "    <tr>\n",
       "      <th>3</th>\n",
       "      <td>895</td>\n",
       "      <td>3</td>\n",
       "      <td>Wirz, Mr. Albert</td>\n",
       "      <td>male</td>\n",
       "      <td>27.0</td>\n",
       "      <td>0</td>\n",
       "      <td>0</td>\n",
       "      <td>315154</td>\n",
       "      <td>8.6625</td>\n",
       "      <td>NaN</td>\n",
       "      <td>S</td>\n",
       "    </tr>\n",
       "    <tr>\n",
       "      <th>4</th>\n",
       "      <td>896</td>\n",
       "      <td>3</td>\n",
       "      <td>Hirvonen, Mrs. Alexander (Helga E Lindqvist)</td>\n",
       "      <td>female</td>\n",
       "      <td>22.0</td>\n",
       "      <td>1</td>\n",
       "      <td>1</td>\n",
       "      <td>3101298</td>\n",
       "      <td>12.2875</td>\n",
       "      <td>NaN</td>\n",
       "      <td>S</td>\n",
       "    </tr>\n",
       "  </tbody>\n",
       "</table>\n",
       "</div>"
      ],
      "text/plain": [
       "   PassengerId  Pclass                                          Name     Sex  \\\n",
       "0          892       3                              Kelly, Mr. James    male   \n",
       "1          893       3              Wilkes, Mrs. James (Ellen Needs)  female   \n",
       "2          894       2                     Myles, Mr. Thomas Francis    male   \n",
       "3          895       3                              Wirz, Mr. Albert    male   \n",
       "4          896       3  Hirvonen, Mrs. Alexander (Helga E Lindqvist)  female   \n",
       "\n",
       "    Age  SibSp  Parch   Ticket     Fare Cabin Embarked  \n",
       "0  34.5      0      0   330911   7.8292   NaN        Q  \n",
       "1  47.0      1      0   363272   7.0000   NaN        S  \n",
       "2  62.0      0      0   240276   9.6875   NaN        Q  \n",
       "3  27.0      0      0   315154   8.6625   NaN        S  \n",
       "4  22.0      1      1  3101298  12.2875   NaN        S  "
      ]
     },
     "execution_count": 50,
     "metadata": {},
     "output_type": "execute_result"
    }
   ],
   "source": [
    "df_test = pd.read_csv(\"../input/titanic/test.csv\")\n",
    "df_test.head()"
   ]
  },
  {
   "cell_type": "code",
   "execution_count": 51,
   "metadata": {
    "execution": {
     "iopub.execute_input": "2020-11-26T04:09:02.603028Z",
     "iopub.status.busy": "2020-11-26T04:09:02.602031Z",
     "iopub.status.idle": "2020-11-26T04:09:02.606326Z",
     "shell.execute_reply": "2020-11-26T04:09:02.606908Z"
    },
    "papermill": {
     "duration": 0.112414,
     "end_time": "2020-11-26T04:09:02.607077",
     "exception": false,
     "start_time": "2020-11-26T04:09:02.494663",
     "status": "completed"
    },
    "tags": []
   },
   "outputs": [
    {
     "data": {
      "text/plain": [
       "PassengerId      0\n",
       "Pclass           0\n",
       "Name             0\n",
       "Sex              0\n",
       "Age             86\n",
       "SibSp            0\n",
       "Parch            0\n",
       "Ticket           0\n",
       "Fare             1\n",
       "Cabin          327\n",
       "Embarked         0\n",
       "dtype: int64"
      ]
     },
     "execution_count": 51,
     "metadata": {},
     "output_type": "execute_result"
    }
   ],
   "source": [
    "df_test.isnull().sum()"
   ]
  },
  {
   "cell_type": "code",
   "execution_count": 52,
   "metadata": {
    "execution": {
     "iopub.execute_input": "2020-11-26T04:09:02.829412Z",
     "iopub.status.busy": "2020-11-26T04:09:02.820601Z",
     "iopub.status.idle": "2020-11-26T04:09:02.833179Z",
     "shell.execute_reply": "2020-11-26T04:09:02.832437Z"
    },
    "papermill": {
     "duration": 0.128041,
     "end_time": "2020-11-26T04:09:02.833326",
     "exception": false,
     "start_time": "2020-11-26T04:09:02.705285",
     "status": "completed"
    },
    "tags": []
   },
   "outputs": [],
   "source": [
    "df_test[\"Salutations\"] = df_test[\"Name\"].str.extract(r'([A-Z]{1}[a-z]+\\.)')\n",
    "\n",
    "master = (df_test[\"Salutations\"] == \"Master.\")\n",
    "miss = (df_test[\"Salutations\"] == \"Miss.\") | (df_test[\"Salutations\"] == \"Ms.\") | (df_test[\"Salutations\"] == \"Mlle.\")\n",
    "mister = (df_test[\"Salutations\"] == \"Mr.\")\n",
    "missus = (df_test[\"Salutations\"] == \"Mrs.\") | (df_test[\"Salutations\"] == \"Mme.\")\n",
    "\n",
    "df_test[\"Title\"] = \"Others\"\n",
    "df_test[\"Title\"][master] = \"Master\"\n",
    "df_test[\"Title\"][miss] = \"Miss\"\n",
    "df_test[\"Title\"][mister] = \"Mister\"\n",
    "df_test[\"Title\"][missus] = \"Missus\""
   ]
  },
  {
   "cell_type": "code",
   "execution_count": 53,
   "metadata": {
    "execution": {
     "iopub.execute_input": "2020-11-26T04:09:03.050932Z",
     "iopub.status.busy": "2020-11-26T04:09:03.045646Z",
     "iopub.status.idle": "2020-11-26T04:09:03.055455Z",
     "shell.execute_reply": "2020-11-26T04:09:03.054831Z"
    },
    "papermill": {
     "duration": 0.122552,
     "end_time": "2020-11-26T04:09:03.055589",
     "exception": false,
     "start_time": "2020-11-26T04:09:02.933037",
     "status": "completed"
    },
    "tags": []
   },
   "outputs": [
    {
     "data": {
      "text/plain": [
       "14.4542"
      ]
     },
     "execution_count": 53,
     "metadata": {},
     "output_type": "execute_result"
    }
   ],
   "source": [
    "df_test[\"Age\"] = df_test.groupby(\"Title\")[\"Age\"].apply(lambda x: x.fillna(x.median()))\n",
    "df_test[\"Cabin\"] = df_test[\"Cabin\"].str.extract(r'([A-Z]{1})').fillna('Z')\n",
    "df_test[\"Fare\"].median()"
   ]
  },
  {
   "cell_type": "code",
   "execution_count": 54,
   "metadata": {
    "execution": {
     "iopub.execute_input": "2020-11-26T04:09:03.287984Z",
     "iopub.status.busy": "2020-11-26T04:09:03.287237Z",
     "iopub.status.idle": "2020-11-26T04:09:03.293199Z",
     "shell.execute_reply": "2020-11-26T04:09:03.292358Z"
    },
    "papermill": {
     "duration": 0.130258,
     "end_time": "2020-11-26T04:09:03.293353",
     "exception": false,
     "start_time": "2020-11-26T04:09:03.163095",
     "status": "completed"
    },
    "tags": []
   },
   "outputs": [
    {
     "data": {
      "text/html": [
       "<div>\n",
       "<style scoped>\n",
       "    .dataframe tbody tr th:only-of-type {\n",
       "        vertical-align: middle;\n",
       "    }\n",
       "\n",
       "    .dataframe tbody tr th {\n",
       "        vertical-align: top;\n",
       "    }\n",
       "\n",
       "    .dataframe thead th {\n",
       "        text-align: right;\n",
       "    }\n",
       "</style>\n",
       "<table border=\"1\" class=\"dataframe\">\n",
       "  <thead>\n",
       "    <tr style=\"text-align: right;\">\n",
       "      <th></th>\n",
       "      <th>PassengerId</th>\n",
       "      <th>Pclass</th>\n",
       "      <th>Name</th>\n",
       "      <th>Sex</th>\n",
       "      <th>Age</th>\n",
       "      <th>SibSp</th>\n",
       "      <th>Parch</th>\n",
       "      <th>Ticket</th>\n",
       "      <th>Fare</th>\n",
       "      <th>Cabin</th>\n",
       "      <th>Embarked</th>\n",
       "      <th>Salutations</th>\n",
       "      <th>Title</th>\n",
       "    </tr>\n",
       "  </thead>\n",
       "  <tbody>\n",
       "    <tr>\n",
       "      <th>0</th>\n",
       "      <td>892</td>\n",
       "      <td>3</td>\n",
       "      <td>Kelly, Mr. James</td>\n",
       "      <td>male</td>\n",
       "      <td>34.5</td>\n",
       "      <td>0</td>\n",
       "      <td>0</td>\n",
       "      <td>330911</td>\n",
       "      <td>7.8292</td>\n",
       "      <td>Z</td>\n",
       "      <td>Q</td>\n",
       "      <td>Mr.</td>\n",
       "      <td>Mister</td>\n",
       "    </tr>\n",
       "    <tr>\n",
       "      <th>1</th>\n",
       "      <td>893</td>\n",
       "      <td>3</td>\n",
       "      <td>Wilkes, Mrs. James (Ellen Needs)</td>\n",
       "      <td>female</td>\n",
       "      <td>47.0</td>\n",
       "      <td>1</td>\n",
       "      <td>0</td>\n",
       "      <td>363272</td>\n",
       "      <td>7.0000</td>\n",
       "      <td>Z</td>\n",
       "      <td>S</td>\n",
       "      <td>Mrs.</td>\n",
       "      <td>Missus</td>\n",
       "    </tr>\n",
       "    <tr>\n",
       "      <th>2</th>\n",
       "      <td>894</td>\n",
       "      <td>2</td>\n",
       "      <td>Myles, Mr. Thomas Francis</td>\n",
       "      <td>male</td>\n",
       "      <td>62.0</td>\n",
       "      <td>0</td>\n",
       "      <td>0</td>\n",
       "      <td>240276</td>\n",
       "      <td>9.6875</td>\n",
       "      <td>Z</td>\n",
       "      <td>Q</td>\n",
       "      <td>Mr.</td>\n",
       "      <td>Mister</td>\n",
       "    </tr>\n",
       "    <tr>\n",
       "      <th>3</th>\n",
       "      <td>895</td>\n",
       "      <td>3</td>\n",
       "      <td>Wirz, Mr. Albert</td>\n",
       "      <td>male</td>\n",
       "      <td>27.0</td>\n",
       "      <td>0</td>\n",
       "      <td>0</td>\n",
       "      <td>315154</td>\n",
       "      <td>8.6625</td>\n",
       "      <td>Z</td>\n",
       "      <td>S</td>\n",
       "      <td>Mr.</td>\n",
       "      <td>Mister</td>\n",
       "    </tr>\n",
       "    <tr>\n",
       "      <th>4</th>\n",
       "      <td>896</td>\n",
       "      <td>3</td>\n",
       "      <td>Hirvonen, Mrs. Alexander (Helga E Lindqvist)</td>\n",
       "      <td>female</td>\n",
       "      <td>22.0</td>\n",
       "      <td>1</td>\n",
       "      <td>1</td>\n",
       "      <td>3101298</td>\n",
       "      <td>12.2875</td>\n",
       "      <td>Z</td>\n",
       "      <td>S</td>\n",
       "      <td>Mrs.</td>\n",
       "      <td>Missus</td>\n",
       "    </tr>\n",
       "  </tbody>\n",
       "</table>\n",
       "</div>"
      ],
      "text/plain": [
       "   PassengerId  Pclass                                          Name     Sex  \\\n",
       "0          892       3                              Kelly, Mr. James    male   \n",
       "1          893       3              Wilkes, Mrs. James (Ellen Needs)  female   \n",
       "2          894       2                     Myles, Mr. Thomas Francis    male   \n",
       "3          895       3                              Wirz, Mr. Albert    male   \n",
       "4          896       3  Hirvonen, Mrs. Alexander (Helga E Lindqvist)  female   \n",
       "\n",
       "    Age  SibSp  Parch   Ticket     Fare Cabin Embarked Salutations   Title  \n",
       "0  34.5      0      0   330911   7.8292     Z        Q         Mr.  Mister  \n",
       "1  47.0      1      0   363272   7.0000     Z        S        Mrs.  Missus  \n",
       "2  62.0      0      0   240276   9.6875     Z        Q         Mr.  Mister  \n",
       "3  27.0      0      0   315154   8.6625     Z        S         Mr.  Mister  \n",
       "4  22.0      1      1  3101298  12.2875     Z        S        Mrs.  Missus  "
      ]
     },
     "execution_count": 54,
     "metadata": {},
     "output_type": "execute_result"
    }
   ],
   "source": [
    "df_test[\"Fare\"] = df_test[\"Fare\"].fillna(14.4542)\n",
    "df_test.head()"
   ]
  },
  {
   "cell_type": "code",
   "execution_count": 55,
   "metadata": {
    "execution": {
     "iopub.execute_input": "2020-11-26T04:09:03.514754Z",
     "iopub.status.busy": "2020-11-26T04:09:03.513752Z",
     "iopub.status.idle": "2020-11-26T04:09:03.518843Z",
     "shell.execute_reply": "2020-11-26T04:09:03.518157Z"
    },
    "papermill": {
     "duration": 0.125016,
     "end_time": "2020-11-26T04:09:03.518968",
     "exception": false,
     "start_time": "2020-11-26T04:09:03.393952",
     "status": "completed"
    },
    "tags": []
   },
   "outputs": [
    {
     "data": {
      "text/html": [
       "<div>\n",
       "<style scoped>\n",
       "    .dataframe tbody tr th:only-of-type {\n",
       "        vertical-align: middle;\n",
       "    }\n",
       "\n",
       "    .dataframe tbody tr th {\n",
       "        vertical-align: top;\n",
       "    }\n",
       "\n",
       "    .dataframe thead th {\n",
       "        text-align: right;\n",
       "    }\n",
       "</style>\n",
       "<table border=\"1\" class=\"dataframe\">\n",
       "  <thead>\n",
       "    <tr style=\"text-align: right;\">\n",
       "      <th></th>\n",
       "      <th>PassengerId</th>\n",
       "      <th>Pclass</th>\n",
       "      <th>Sex</th>\n",
       "      <th>Age</th>\n",
       "      <th>SibSp</th>\n",
       "      <th>Parch</th>\n",
       "      <th>Fare</th>\n",
       "      <th>Cabin</th>\n",
       "      <th>Embarked</th>\n",
       "      <th>Title</th>\n",
       "    </tr>\n",
       "  </thead>\n",
       "  <tbody>\n",
       "    <tr>\n",
       "      <th>0</th>\n",
       "      <td>892</td>\n",
       "      <td>3</td>\n",
       "      <td>male</td>\n",
       "      <td>34.5</td>\n",
       "      <td>0</td>\n",
       "      <td>0</td>\n",
       "      <td>7.8292</td>\n",
       "      <td>Z</td>\n",
       "      <td>Q</td>\n",
       "      <td>Mister</td>\n",
       "    </tr>\n",
       "    <tr>\n",
       "      <th>1</th>\n",
       "      <td>893</td>\n",
       "      <td>3</td>\n",
       "      <td>female</td>\n",
       "      <td>47.0</td>\n",
       "      <td>1</td>\n",
       "      <td>0</td>\n",
       "      <td>7.0000</td>\n",
       "      <td>Z</td>\n",
       "      <td>S</td>\n",
       "      <td>Missus</td>\n",
       "    </tr>\n",
       "    <tr>\n",
       "      <th>2</th>\n",
       "      <td>894</td>\n",
       "      <td>2</td>\n",
       "      <td>male</td>\n",
       "      <td>62.0</td>\n",
       "      <td>0</td>\n",
       "      <td>0</td>\n",
       "      <td>9.6875</td>\n",
       "      <td>Z</td>\n",
       "      <td>Q</td>\n",
       "      <td>Mister</td>\n",
       "    </tr>\n",
       "    <tr>\n",
       "      <th>3</th>\n",
       "      <td>895</td>\n",
       "      <td>3</td>\n",
       "      <td>male</td>\n",
       "      <td>27.0</td>\n",
       "      <td>0</td>\n",
       "      <td>0</td>\n",
       "      <td>8.6625</td>\n",
       "      <td>Z</td>\n",
       "      <td>S</td>\n",
       "      <td>Mister</td>\n",
       "    </tr>\n",
       "    <tr>\n",
       "      <th>4</th>\n",
       "      <td>896</td>\n",
       "      <td>3</td>\n",
       "      <td>female</td>\n",
       "      <td>22.0</td>\n",
       "      <td>1</td>\n",
       "      <td>1</td>\n",
       "      <td>12.2875</td>\n",
       "      <td>Z</td>\n",
       "      <td>S</td>\n",
       "      <td>Missus</td>\n",
       "    </tr>\n",
       "  </tbody>\n",
       "</table>\n",
       "</div>"
      ],
      "text/plain": [
       "   PassengerId  Pclass     Sex   Age  SibSp  Parch     Fare Cabin Embarked  \\\n",
       "0          892       3    male  34.5      0      0   7.8292     Z        Q   \n",
       "1          893       3  female  47.0      1      0   7.0000     Z        S   \n",
       "2          894       2    male  62.0      0      0   9.6875     Z        Q   \n",
       "3          895       3    male  27.0      0      0   8.6625     Z        S   \n",
       "4          896       3  female  22.0      1      1  12.2875     Z        S   \n",
       "\n",
       "    Title  \n",
       "0  Mister  \n",
       "1  Missus  \n",
       "2  Mister  \n",
       "3  Mister  \n",
       "4  Missus  "
      ]
     },
     "execution_count": 55,
     "metadata": {},
     "output_type": "execute_result"
    }
   ],
   "source": [
    "df_test.drop([\"Name\", \"Salutations\", \"Ticket\"], axis=1, inplace=True)\n",
    "df_test.head()"
   ]
  },
  {
   "cell_type": "code",
   "execution_count": 56,
   "metadata": {
    "execution": {
     "iopub.execute_input": "2020-11-26T04:09:03.812118Z",
     "iopub.status.busy": "2020-11-26T04:09:03.789207Z",
     "iopub.status.idle": "2020-11-26T04:09:03.831105Z",
     "shell.execute_reply": "2020-11-26T04:09:03.830427Z"
    },
    "papermill": {
     "duration": 0.21121,
     "end_time": "2020-11-26T04:09:03.831230",
     "exception": false,
     "start_time": "2020-11-26T04:09:03.620020",
     "status": "completed"
    },
    "tags": []
   },
   "outputs": [
    {
     "data": {
      "text/html": [
       "<div>\n",
       "<style scoped>\n",
       "    .dataframe tbody tr th:only-of-type {\n",
       "        vertical-align: middle;\n",
       "    }\n",
       "\n",
       "    .dataframe tbody tr th {\n",
       "        vertical-align: top;\n",
       "    }\n",
       "\n",
       "    .dataframe thead th {\n",
       "        text-align: right;\n",
       "    }\n",
       "</style>\n",
       "<table border=\"1\" class=\"dataframe\">\n",
       "  <thead>\n",
       "    <tr style=\"text-align: right;\">\n",
       "      <th></th>\n",
       "      <th>PassengerId</th>\n",
       "      <th>Pclass</th>\n",
       "      <th>Sex</th>\n",
       "      <th>Age</th>\n",
       "      <th>SibSp</th>\n",
       "      <th>Parch</th>\n",
       "      <th>Fare</th>\n",
       "      <th>Cabin</th>\n",
       "      <th>Embarked</th>\n",
       "      <th>Title</th>\n",
       "      <th>Family</th>\n",
       "      <th>Fam_Cat</th>\n",
       "      <th>Pclass_Sex</th>\n",
       "      <th>Pclass_Age</th>\n",
       "      <th>Pclass_Fare</th>\n",
       "      <th>Sex_Age</th>\n",
       "      <th>Sex_Fare</th>\n",
       "      <th>Age_Fare</th>\n",
       "    </tr>\n",
       "  </thead>\n",
       "  <tbody>\n",
       "    <tr>\n",
       "      <th>0</th>\n",
       "      <td>892</td>\n",
       "      <td>3</td>\n",
       "      <td>0</td>\n",
       "      <td>4</td>\n",
       "      <td>0</td>\n",
       "      <td>0</td>\n",
       "      <td>1</td>\n",
       "      <td>8</td>\n",
       "      <td>3</td>\n",
       "      <td>3</td>\n",
       "      <td>0</td>\n",
       "      <td>0</td>\n",
       "      <td>0</td>\n",
       "      <td>12</td>\n",
       "      <td>3</td>\n",
       "      <td>0</td>\n",
       "      <td>0</td>\n",
       "      <td>4</td>\n",
       "    </tr>\n",
       "    <tr>\n",
       "      <th>1</th>\n",
       "      <td>893</td>\n",
       "      <td>3</td>\n",
       "      <td>1</td>\n",
       "      <td>5</td>\n",
       "      <td>1</td>\n",
       "      <td>0</td>\n",
       "      <td>0</td>\n",
       "      <td>8</td>\n",
       "      <td>1</td>\n",
       "      <td>4</td>\n",
       "      <td>1</td>\n",
       "      <td>1</td>\n",
       "      <td>3</td>\n",
       "      <td>15</td>\n",
       "      <td>0</td>\n",
       "      <td>5</td>\n",
       "      <td>0</td>\n",
       "      <td>0</td>\n",
       "    </tr>\n",
       "    <tr>\n",
       "      <th>2</th>\n",
       "      <td>894</td>\n",
       "      <td>2</td>\n",
       "      <td>0</td>\n",
       "      <td>5</td>\n",
       "      <td>0</td>\n",
       "      <td>0</td>\n",
       "      <td>2</td>\n",
       "      <td>8</td>\n",
       "      <td>3</td>\n",
       "      <td>3</td>\n",
       "      <td>0</td>\n",
       "      <td>0</td>\n",
       "      <td>0</td>\n",
       "      <td>10</td>\n",
       "      <td>4</td>\n",
       "      <td>0</td>\n",
       "      <td>0</td>\n",
       "      <td>10</td>\n",
       "    </tr>\n",
       "    <tr>\n",
       "      <th>3</th>\n",
       "      <td>895</td>\n",
       "      <td>3</td>\n",
       "      <td>0</td>\n",
       "      <td>2</td>\n",
       "      <td>0</td>\n",
       "      <td>0</td>\n",
       "      <td>2</td>\n",
       "      <td>8</td>\n",
       "      <td>1</td>\n",
       "      <td>3</td>\n",
       "      <td>0</td>\n",
       "      <td>0</td>\n",
       "      <td>0</td>\n",
       "      <td>6</td>\n",
       "      <td>6</td>\n",
       "      <td>0</td>\n",
       "      <td>0</td>\n",
       "      <td>4</td>\n",
       "    </tr>\n",
       "    <tr>\n",
       "      <th>4</th>\n",
       "      <td>896</td>\n",
       "      <td>3</td>\n",
       "      <td>1</td>\n",
       "      <td>2</td>\n",
       "      <td>1</td>\n",
       "      <td>1</td>\n",
       "      <td>2</td>\n",
       "      <td>8</td>\n",
       "      <td>1</td>\n",
       "      <td>4</td>\n",
       "      <td>2</td>\n",
       "      <td>1</td>\n",
       "      <td>3</td>\n",
       "      <td>6</td>\n",
       "      <td>6</td>\n",
       "      <td>2</td>\n",
       "      <td>2</td>\n",
       "      <td>4</td>\n",
       "    </tr>\n",
       "  </tbody>\n",
       "</table>\n",
       "</div>"
      ],
      "text/plain": [
       "   PassengerId  Pclass  Sex  Age  SibSp  Parch  Fare  Cabin  Embarked  Title  \\\n",
       "0          892       3    0    4      0      0     1      8         3      3   \n",
       "1          893       3    1    5      1      0     0      8         1      4   \n",
       "2          894       2    0    5      0      0     2      8         3      3   \n",
       "3          895       3    0    2      0      0     2      8         1      3   \n",
       "4          896       3    1    2      1      1     2      8         1      4   \n",
       "\n",
       "   Family  Fam_Cat  Pclass_Sex  Pclass_Age  Pclass_Fare  Sex_Age  Sex_Fare  \\\n",
       "0       0        0           0          12            3        0         0   \n",
       "1       1        1           3          15            0        5         0   \n",
       "2       0        0           0          10            4        0         0   \n",
       "3       0        0           0           6            6        0         0   \n",
       "4       2        1           3           6            6        2         2   \n",
       "\n",
       "   Age_Fare  \n",
       "0         4  \n",
       "1         0  \n",
       "2        10  \n",
       "3         4  \n",
       "4         4  "
      ]
     },
     "execution_count": 56,
     "metadata": {},
     "output_type": "execute_result"
    }
   ],
   "source": [
    "sex = {\"male\": 0, \"female\": 1}\n",
    "df_test[\"Sex\"] = df_test[\"Sex\"].map(sex)\n",
    "\n",
    "\n",
    "age = (df_test[\"Age\"] < 8)\n",
    "age1 = (df_test[\"Age\"] >= 9) & (df_test[\"Age\"] < 21)\n",
    "age2 = (df_test[\"Age\"] >= 21) & (df_test[\"Age\"] < 28)\n",
    "age3 = (df_test[\"Age\"] >= 28) & (df_test[\"Age\"] < 30)\n",
    "age4 = (df_test[\"Age\"] >= 28) & (df_test[\"Age\"] < 39)\n",
    "age5 = (df_test[\"Age\"] >= 39)\n",
    "\n",
    "df_test[\"Age\"][age] = 0\n",
    "df_test[\"Age\"][age1] = 1\n",
    "df_test[\"Age\"][age2] = 2\n",
    "df_test[\"Age\"][age3] = 3\n",
    "df_test[\"Age\"][age4] = 4\n",
    "df_test[\"Age\"][age5] = 5\n",
    "\n",
    "df_test[\"Family\"] = df_test[\"SibSp\"] + df_test[\"Parch\"]\n",
    "none = (df_test[\"Family\"] == 0)\n",
    "four = (df_test[\"Family\"] >= 4)\n",
    "\n",
    "df_test[\"Fam_Cat\"] = 1\n",
    "df_test[\"Fam_Cat\"][none] = 0\n",
    "df_test[\"Fam_Cat\"][four] = 2\n",
    "\n",
    "fare = (df_test[\"Fare\"] < 7.775)\n",
    "fare1 = (df_test[\"Fare\"] >= 7.775) & (df_test[\"Fare\"] < 8.662)\n",
    "fare2 = (df_test[\"Fare\"] >= 8.662) & (df_test[\"Fare\"] < 14.454)\n",
    "fare3 = (df_test[\"Fare\"] >= 14.454) & (df_test[\"Fare\"] < 26)\n",
    "fare4 = (df_test[\"Fare\"] >= 26) & (df_test[\"Fare\"] < 52.369)\n",
    "fare5 = (df_test[\"Fare\"] >= 52.369)\n",
    "\n",
    "df_test[\"Fare\"][fare] = 0\n",
    "df_test[\"Fare\"][fare1] = 1\n",
    "df_test[\"Fare\"][fare2] = 2\n",
    "df_test[\"Fare\"][fare3] = 3\n",
    "df_test[\"Fare\"][fare4] = 4\n",
    "df_test[\"Fare\"][fare5] = 5\n",
    "\n",
    "port = {'S': 1, 'C': 2, 'Q': 3}\n",
    "df_test[\"Embarked\"] = df_test[\"Embarked\"].map(port)\n",
    "\n",
    "cabin = {\"Z\": 8, \"T\": 7, \"G\": 6, \"F\": 5, \"E\": 4, \"D\": 3, \"C\": 2, \"B\": 1, \"A\": 0}\n",
    "df_test[\"Cabin\"] = df_test[\"Cabin\"].map(cabin)\n",
    "\n",
    "title = {\"Master\": 0, \"Miss\": 1, \"Mister\": 3, \"Missus\": 4, \"Others\": 5}\n",
    "df_test[\"Title\"] = df_test[\"Title\"].map(title)\n",
    "\n",
    "\n",
    "df_test[\"Age\"] = df_test[\"Age\"].astype(int)\n",
    "df_test[\"Fare\"] = df_test[\"Fare\"].astype(int)\n",
    "\n",
    "df_test[\"Pclass_Sex\"] = df_test[\"Pclass\"]*df_test[\"Sex\"]\n",
    "df_test[\"Pclass_Age\"] = df_test[\"Pclass\"]*df_test[\"Age\"]\n",
    "df_test[\"Pclass_Fare\"] = df_test[\"Pclass\"]*df_test[\"Fare\"]\n",
    "df_test[\"Sex_Age\"] = df_test[\"Sex\"]*df_test[\"Age\"]\n",
    "df_test[\"Sex_Fare\"] = df_test[\"Sex\"]*df_test[\"Fare\"]\n",
    "df_test[\"Age_Fare\"] = df_test[\"Age\"]*df_test[\"Fare\"]\n",
    "\n",
    "df_test.head()"
   ]
  },
  {
   "cell_type": "code",
   "execution_count": 57,
   "metadata": {
    "execution": {
     "iopub.execute_input": "2020-11-26T04:09:04.043488Z",
     "iopub.status.busy": "2020-11-26T04:09:04.042670Z",
     "iopub.status.idle": "2020-11-26T04:09:04.060649Z",
     "shell.execute_reply": "2020-11-26T04:09:04.059988Z"
    },
    "papermill": {
     "duration": 0.126468,
     "end_time": "2020-11-26T04:09:04.060772",
     "exception": false,
     "start_time": "2020-11-26T04:09:03.934304",
     "status": "completed"
    },
    "tags": []
   },
   "outputs": [
    {
     "data": {
      "text/html": [
       "<div>\n",
       "<style scoped>\n",
       "    .dataframe tbody tr th:only-of-type {\n",
       "        vertical-align: middle;\n",
       "    }\n",
       "\n",
       "    .dataframe tbody tr th {\n",
       "        vertical-align: top;\n",
       "    }\n",
       "\n",
       "    .dataframe thead th {\n",
       "        text-align: right;\n",
       "    }\n",
       "</style>\n",
       "<table border=\"1\" class=\"dataframe\">\n",
       "  <thead>\n",
       "    <tr style=\"text-align: right;\">\n",
       "      <th></th>\n",
       "      <th>Pclass</th>\n",
       "      <th>Sex</th>\n",
       "      <th>Age</th>\n",
       "      <th>Fare</th>\n",
       "      <th>Cabin</th>\n",
       "      <th>Embarked</th>\n",
       "      <th>Title</th>\n",
       "      <th>Fam_Cat</th>\n",
       "      <th>Pclass_Sex</th>\n",
       "      <th>Pclass_Age</th>\n",
       "      <th>Pclass_Fare</th>\n",
       "      <th>Sex_Age</th>\n",
       "      <th>Sex_Fare</th>\n",
       "      <th>Age_Fare</th>\n",
       "    </tr>\n",
       "  </thead>\n",
       "  <tbody>\n",
       "    <tr>\n",
       "      <th>0</th>\n",
       "      <td>3</td>\n",
       "      <td>0</td>\n",
       "      <td>4</td>\n",
       "      <td>1</td>\n",
       "      <td>8</td>\n",
       "      <td>3</td>\n",
       "      <td>3</td>\n",
       "      <td>0</td>\n",
       "      <td>0</td>\n",
       "      <td>12</td>\n",
       "      <td>3</td>\n",
       "      <td>0</td>\n",
       "      <td>0</td>\n",
       "      <td>4</td>\n",
       "    </tr>\n",
       "    <tr>\n",
       "      <th>1</th>\n",
       "      <td>3</td>\n",
       "      <td>1</td>\n",
       "      <td>5</td>\n",
       "      <td>0</td>\n",
       "      <td>8</td>\n",
       "      <td>1</td>\n",
       "      <td>4</td>\n",
       "      <td>1</td>\n",
       "      <td>3</td>\n",
       "      <td>15</td>\n",
       "      <td>0</td>\n",
       "      <td>5</td>\n",
       "      <td>0</td>\n",
       "      <td>0</td>\n",
       "    </tr>\n",
       "    <tr>\n",
       "      <th>2</th>\n",
       "      <td>2</td>\n",
       "      <td>0</td>\n",
       "      <td>5</td>\n",
       "      <td>2</td>\n",
       "      <td>8</td>\n",
       "      <td>3</td>\n",
       "      <td>3</td>\n",
       "      <td>0</td>\n",
       "      <td>0</td>\n",
       "      <td>10</td>\n",
       "      <td>4</td>\n",
       "      <td>0</td>\n",
       "      <td>0</td>\n",
       "      <td>10</td>\n",
       "    </tr>\n",
       "    <tr>\n",
       "      <th>3</th>\n",
       "      <td>3</td>\n",
       "      <td>0</td>\n",
       "      <td>2</td>\n",
       "      <td>2</td>\n",
       "      <td>8</td>\n",
       "      <td>1</td>\n",
       "      <td>3</td>\n",
       "      <td>0</td>\n",
       "      <td>0</td>\n",
       "      <td>6</td>\n",
       "      <td>6</td>\n",
       "      <td>0</td>\n",
       "      <td>0</td>\n",
       "      <td>4</td>\n",
       "    </tr>\n",
       "    <tr>\n",
       "      <th>4</th>\n",
       "      <td>3</td>\n",
       "      <td>1</td>\n",
       "      <td>2</td>\n",
       "      <td>2</td>\n",
       "      <td>8</td>\n",
       "      <td>1</td>\n",
       "      <td>4</td>\n",
       "      <td>1</td>\n",
       "      <td>3</td>\n",
       "      <td>6</td>\n",
       "      <td>6</td>\n",
       "      <td>2</td>\n",
       "      <td>2</td>\n",
       "      <td>4</td>\n",
       "    </tr>\n",
       "  </tbody>\n",
       "</table>\n",
       "</div>"
      ],
      "text/plain": [
       "   Pclass  Sex  Age  Fare  Cabin  Embarked  Title  Fam_Cat  Pclass_Sex  \\\n",
       "0       3    0    4     1      8         3      3        0           0   \n",
       "1       3    1    5     0      8         1      4        1           3   \n",
       "2       2    0    5     2      8         3      3        0           0   \n",
       "3       3    0    2     2      8         1      3        0           0   \n",
       "4       3    1    2     2      8         1      4        1           3   \n",
       "\n",
       "   Pclass_Age  Pclass_Fare  Sex_Age  Sex_Fare  Age_Fare  \n",
       "0          12            3        0         0         4  \n",
       "1          15            0        5         0         0  \n",
       "2          10            4        0         0        10  \n",
       "3           6            6        0         0         4  \n",
       "4           6            6        2         2         4  "
      ]
     },
     "execution_count": 57,
     "metadata": {},
     "output_type": "execute_result"
    }
   ],
   "source": [
    "df_val = df_test.drop([\"PassengerId\", \"SibSp\", \"Parch\", \"Family\"], axis=1)\n",
    "df_val.head()"
   ]
  },
  {
   "cell_type": "code",
   "execution_count": 58,
   "metadata": {
    "execution": {
     "iopub.execute_input": "2020-11-26T04:09:04.278177Z",
     "iopub.status.busy": "2020-11-26T04:09:04.277267Z",
     "iopub.status.idle": "2020-11-26T04:09:04.349652Z",
     "shell.execute_reply": "2020-11-26T04:09:04.348813Z"
    },
    "papermill": {
     "duration": 0.186781,
     "end_time": "2020-11-26T04:09:04.349800",
     "exception": false,
     "start_time": "2020-11-26T04:09:04.163019",
     "status": "completed"
    },
    "tags": []
   },
   "outputs": [
    {
     "data": {
      "text/plain": [
       "XGBClassifier(base_score=0.5, booster='gbtree', colsample_bylevel=1,\n",
       "              colsample_bynode=1, colsample_bytree=0.6, gamma=0, gpu_id=-1,\n",
       "              importance_type='gain', interaction_constraints='',\n",
       "              learning_rate=0.03, max_delta_step=0, max_depth=4,\n",
       "              min_child_weight=1, missing=nan, monotone_constraints='()',\n",
       "              n_estimators=100, n_jobs=1, nthread=1, num_parallel_tree=1,\n",
       "              random_state=0, reg_alpha=0, reg_lambda=1, scale_pos_weight=1,\n",
       "              subsample=1.0, tree_method='exact', validate_parameters=1,\n",
       "              verbosity=None)"
      ]
     },
     "execution_count": 58,
     "metadata": {},
     "output_type": "execute_result"
    }
   ],
   "source": [
    "X = df.iloc[:, 1:].values\n",
    "y = df.iloc[:, 0].values\n",
    "\n",
    "X = pca.fit_transform(X)\n",
    "\n",
    "xgb = XGBClassifier(nthread=1, colsample_bytree=0.6, learning_rate=0.03, max_depth=4, min_child_weight=1, n_estimators=100, subsample=1.0)\n",
    "xgb.fit(X, y)"
   ]
  },
  {
   "cell_type": "code",
   "execution_count": 59,
   "metadata": {
    "execution": {
     "iopub.execute_input": "2020-11-26T04:09:04.577833Z",
     "iopub.status.busy": "2020-11-26T04:09:04.576957Z",
     "iopub.status.idle": "2020-11-26T04:09:04.583897Z",
     "shell.execute_reply": "2020-11-26T04:09:04.583257Z"
    },
    "papermill": {
     "duration": 0.123954,
     "end_time": "2020-11-26T04:09:04.584020",
     "exception": false,
     "start_time": "2020-11-26T04:09:04.460066",
     "status": "completed"
    },
    "tags": []
   },
   "outputs": [],
   "source": [
    "X_val = df_val.values\n",
    "X_val = pca.fit_transform(X_val)\n",
    "actual_pred = xgb.predict(X_val)"
   ]
  },
  {
   "cell_type": "code",
   "execution_count": 60,
   "metadata": {
    "execution": {
     "iopub.execute_input": "2020-11-26T04:09:04.799796Z",
     "iopub.status.busy": "2020-11-26T04:09:04.798725Z",
     "iopub.status.idle": "2020-11-26T04:09:04.803009Z",
     "shell.execute_reply": "2020-11-26T04:09:04.802223Z"
    },
    "papermill": {
     "duration": 0.11515,
     "end_time": "2020-11-26T04:09:04.803165",
     "exception": false,
     "start_time": "2020-11-26T04:09:04.688015",
     "status": "completed"
    },
    "tags": []
   },
   "outputs": [],
   "source": [
    "df_actual = pd.DataFrame(df_test[\"PassengerId\"])\n",
    "df_actual[\"Survived\"] = actual_pred"
   ]
  },
  {
   "cell_type": "code",
   "execution_count": 61,
   "metadata": {
    "execution": {
     "iopub.execute_input": "2020-11-26T04:09:05.026100Z",
     "iopub.status.busy": "2020-11-26T04:09:05.025078Z",
     "iopub.status.idle": "2020-11-26T04:09:05.030316Z",
     "shell.execute_reply": "2020-11-26T04:09:05.029496Z"
    },
    "papermill": {
     "duration": 0.121336,
     "end_time": "2020-11-26T04:09:05.030460",
     "exception": false,
     "start_time": "2020-11-26T04:09:04.909124",
     "status": "completed"
    },
    "tags": []
   },
   "outputs": [
    {
     "data": {
      "text/html": [
       "<div>\n",
       "<style scoped>\n",
       "    .dataframe tbody tr th:only-of-type {\n",
       "        vertical-align: middle;\n",
       "    }\n",
       "\n",
       "    .dataframe tbody tr th {\n",
       "        vertical-align: top;\n",
       "    }\n",
       "\n",
       "    .dataframe thead th {\n",
       "        text-align: right;\n",
       "    }\n",
       "</style>\n",
       "<table border=\"1\" class=\"dataframe\">\n",
       "  <thead>\n",
       "    <tr style=\"text-align: right;\">\n",
       "      <th></th>\n",
       "      <th>PassengerId</th>\n",
       "      <th>Survived</th>\n",
       "    </tr>\n",
       "  </thead>\n",
       "  <tbody>\n",
       "    <tr>\n",
       "      <th>0</th>\n",
       "      <td>892</td>\n",
       "      <td>0</td>\n",
       "    </tr>\n",
       "    <tr>\n",
       "      <th>1</th>\n",
       "      <td>893</td>\n",
       "      <td>0</td>\n",
       "    </tr>\n",
       "    <tr>\n",
       "      <th>2</th>\n",
       "      <td>894</td>\n",
       "      <td>0</td>\n",
       "    </tr>\n",
       "    <tr>\n",
       "      <th>3</th>\n",
       "      <td>895</td>\n",
       "      <td>0</td>\n",
       "    </tr>\n",
       "    <tr>\n",
       "      <th>4</th>\n",
       "      <td>896</td>\n",
       "      <td>1</td>\n",
       "    </tr>\n",
       "  </tbody>\n",
       "</table>\n",
       "</div>"
      ],
      "text/plain": [
       "   PassengerId  Survived\n",
       "0          892         0\n",
       "1          893         0\n",
       "2          894         0\n",
       "3          895         0\n",
       "4          896         1"
      ]
     },
     "execution_count": 61,
     "metadata": {},
     "output_type": "execute_result"
    }
   ],
   "source": [
    "df_actual.head()"
   ]
  },
  {
   "cell_type": "code",
   "execution_count": 62,
   "metadata": {
    "execution": {
     "iopub.execute_input": "2020-11-26T04:09:05.260935Z",
     "iopub.status.busy": "2020-11-26T04:09:05.259800Z",
     "iopub.status.idle": "2020-11-26T04:09:05.320504Z",
     "shell.execute_reply": "2020-11-26T04:09:05.319684Z"
    },
    "papermill": {
     "duration": 0.179003,
     "end_time": "2020-11-26T04:09:05.320636",
     "exception": false,
     "start_time": "2020-11-26T04:09:05.141633",
     "status": "completed"
    },
    "tags": []
   },
   "outputs": [],
   "source": [
    "df_actual.to_csv('Titanic Predictions.csv', index=False)"
   ]
  },
  {
   "cell_type": "markdown",
   "metadata": {
    "papermill": {
     "duration": 0.104605,
     "end_time": "2020-11-26T04:09:05.530764",
     "exception": false,
     "start_time": "2020-11-26T04:09:05.426159",
     "status": "completed"
    },
    "tags": []
   },
   "source": [
    "Done! Hope you enjoyed this walkthrough with me!"
   ]
  }
 ],
 "metadata": {
  "kernelspec": {
   "display_name": "Python 3",
   "language": "python",
   "name": "python3"
  },
  "language_info": {
   "codemirror_mode": {
    "name": "ipython",
    "version": 3
   },
   "file_extension": ".py",
   "mimetype": "text/x-python",
   "name": "python",
   "nbconvert_exporter": "python",
   "pygments_lexer": "ipython3",
   "version": "3.7.6"
  },
  "papermill": {
   "duration": 408.817424,
   "end_time": "2020-11-26T04:09:05.745966",
   "environment_variables": {},
   "exception": null,
   "input_path": "__notebook__.ipynb",
   "output_path": "__notebook__.ipynb",
   "parameters": {},
   "start_time": "2020-11-26T04:02:16.928542",
   "version": "2.1.0"
  }
 },
 "nbformat": 4,
 "nbformat_minor": 4
}
